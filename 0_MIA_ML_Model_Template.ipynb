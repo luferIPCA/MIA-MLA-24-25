{
  "nbformat": 4,
  "nbformat_minor": 0,
  "metadata": {
    "colab": {
      "provenance": [],
      "include_colab_link": true
    },
    "kernelspec": {
      "name": "python3",
      "display_name": "Python 3"
    }
  },
  "cells": [
    {
      "cell_type": "markdown",
      "metadata": {
        "id": "view-in-github",
        "colab_type": "text"
      },
      "source": [
        "<a href=\"https://colab.research.google.com/github/luferIPCA/MIA-MLA-24-25/blob/main/0_MIA_ML_Model_Template.ipynb\" target=\"_parent\"><img src=\"https://colab.research.google.com/assets/colab-badge.svg\" alt=\"Open In Colab\"/></a>"
      ]
    },
    {
      "cell_type": "markdown",
      "metadata": {
        "id": "1yE1ar-m5yEv"
      },
      "source": [
        "# Masters' in Applied Artificial Intelligence\n",
        "## Machine Learning Algorithms Course\n",
        "\n",
        "Notebooks Template for MLA course\n",
        "\n",
        "by [*lufer*](mailto:lufer@ipca.pt)\n",
        "\n",
        "---\n"
      ]
    },
    {
      "cell_type": "markdown",
      "metadata": {
        "id": "cOX1HBNA6BwG"
      },
      "source": [
        "## 0. Setup\n",
        "\n",
        "We provide the initial setup of the notebook. In this section we import the necessary libraries so you can build your model."
      ]
    },
    {
      "cell_type": "code",
      "metadata": {
        "id": "dcQjdg4D5qwc"
      },
      "source": [
        "import numpy as np\n",
        "import pandas as pd\n",
        "from matplotlib import pyplot as plt"
      ],
      "execution_count": null,
      "outputs": []
    },
    {
      "cell_type": "markdown",
      "metadata": {
        "id": "rBKm1n0h6mWx"
      },
      "source": [
        "## 1. Load the data\n",
        "\n",
        "The first step is to load the necessary data. Use the command read_csv from pandas library to load the intended dataset. After loading the data into a dataframe, show the top of the dataset."
      ]
    },
    {
      "cell_type": "code",
      "metadata": {
        "id": "WyzD2uVb7sIz"
      },
      "source": [
        "# load the data\n",
        "# ds = pd.read_csv(url)\n",
        "# ds.head()"
      ],
      "execution_count": null,
      "outputs": []
    },
    {
      "cell_type": "markdown",
      "metadata": {
        "id": "NLnaUlxT7_Ej"
      },
      "source": [
        "## 2. Explore and visualize the data\n",
        "\n"
      ]
    },
    {
      "cell_type": "markdown",
      "metadata": {
        "id": "8J8fQqSx8OLb"
      },
      "source": [
        "## 3. Preprocess the data"
      ]
    },
    {
      "cell_type": "markdown",
      "metadata": {
        "id": "jBcrUXkM90AK"
      },
      "source": [
        "## 4. Select an algorithm and train the model"
      ]
    },
    {
      "cell_type": "markdown",
      "metadata": {
        "id": "g0iW_fSG979T"
      },
      "source": [
        "## 5. Save the model for later use"
      ]
    },
    {
      "cell_type": "code",
      "metadata": {
        "id": "Oj_xDT5g8QXI"
      },
      "source": [],
      "execution_count": null,
      "outputs": []
    },
    {
      "cell_type": "code",
      "source": [],
      "metadata": {
        "id": "atZA-kuAQlIz"
      },
      "execution_count": null,
      "outputs": []
    },
    {
      "cell_type": "code",
      "source": [
        "from google.colab import drive\n",
        "drive.mount('/content/drive')"
      ],
      "metadata": {
        "colab": {
          "base_uri": "https://localhost:8080/"
        },
        "id": "anQYo_lGQl-U",
        "outputId": "d8e52ace-23a0-4864-8fca-a545ac01f3f1"
      },
      "execution_count": null,
      "outputs": [
        {
          "output_type": "stream",
          "name": "stdout",
          "text": [
            "Mounted at /content/drive\n"
          ]
        }
      ]
    }
  ]
}
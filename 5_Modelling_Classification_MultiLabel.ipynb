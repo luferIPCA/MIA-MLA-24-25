{
  "nbformat": 4,
  "nbformat_minor": 0,
  "metadata": {
    "colab": {
      "provenance": [],
      "toc_visible": true,
      "include_colab_link": true
    },
    "kernelspec": {
      "name": "python3",
      "display_name": "Python 3"
    },
    "language_info": {
      "name": "python"
    }
  },
  "cells": [
    {
      "cell_type": "markdown",
      "metadata": {
        "id": "view-in-github",
        "colab_type": "text"
      },
      "source": [
        "<a href=\"https://colab.research.google.com/github/luferIPCA/MIA-MLA-24-25/blob/main/5_Modelling_Classification_MultiLabel.ipynb\" target=\"_parent\"><img src=\"https://colab.research.google.com/assets/colab-badge.svg\" alt=\"Open In Colab\"/></a>"
      ]
    },
    {
      "cell_type": "markdown",
      "metadata": {
        "id": "c1kf9qddTM4D"
      },
      "source": [
        "# Masters' in Applied Artificial Intelligence\n",
        "## Machine Learning Algorithms Course\n",
        "\n",
        "Notebooks for the MLA course\n",
        "\n",
        "by [*lufer*](mailto:lufer@ipca.pt)\n",
        "\n",
        "vers(2.0)\n",
        "\n",
        "---\n",
        "\n"
      ]
    },
    {
      "cell_type": "markdown",
      "metadata": {
        "id": "3yc6mD0jVeWN"
      },
      "source": [
        "# ML Modelling - Part V-II - Multi Label Classification Problems\n",
        "\\\n",
        "**Contents**:\n",
        "\n",
        "1.  **Create a Multi Label Classification ML Model**\n",
        "2.  **L....***\n",
        "\n"
      ]
    },
    {
      "cell_type": "markdown",
      "source": [
        "This notebook explores the creation of Machine Learning models for Multi Label Classification Supervised Learning."
      ],
      "metadata": {
        "id": "iAEg0vfdoiFr"
      }
    },
    {
      "cell_type": "markdown",
      "metadata": {
        "id": "GP-NymupVL02"
      },
      "source": [
        "# Environment preparation\n"
      ]
    },
    {
      "cell_type": "markdown",
      "metadata": {
        "id": "-3Rm857IVoPe"
      },
      "source": [
        "**Importing necessary Libraries**"
      ]
    },
    {
      "cell_type": "code",
      "source": [
        "\n",
        "!pip install scikit-multilearn"
      ],
      "metadata": {
        "colab": {
          "base_uri": "https://localhost:8080/"
        },
        "id": "RI2YJzPzyyuT",
        "outputId": "ab2f6f6e-c4d0-4866-b9b9-a26893556b43"
      },
      "execution_count": 6,
      "outputs": [
        {
          "output_type": "stream",
          "name": "stdout",
          "text": [
            "Collecting scikit-multilearn\n",
            "  Downloading scikit_multilearn-0.2.0-py3-none-any.whl.metadata (6.0 kB)\n",
            "Downloading scikit_multilearn-0.2.0-py3-none-any.whl (89 kB)\n",
            "\u001b[2K   \u001b[90m━━━━━━━━━━━━━━━━━━━━━━━━━━━━━━━━━━━━━━━━\u001b[0m \u001b[32m89.4/89.4 kB\u001b[0m \u001b[31m2.8 MB/s\u001b[0m eta \u001b[36m0:00:00\u001b[0m\n",
            "\u001b[?25hInstalling collected packages: scikit-multilearn\n",
            "Successfully installed scikit-multilearn-0.2.0\n"
          ]
        }
      ]
    },
    {
      "cell_type": "code",
      "execution_count": 7,
      "metadata": {
        "id": "vA1MzNI4TU_q"
      },
      "outputs": [],
      "source": [
        "from skmultilearn.adapt import MLARAM #Adapted algotihm: Multi-label ARAM model\n",
        "#see http://scikit.ml/api/skmultilearn.adapt.mlaram.html\n",
        "\n",
        "from skmultilearn.problem_transform import BinaryRelevance, ClassifierChain, LabelPowerset #Transformation to be used\n",
        "\n",
        "from sklearn.svm import SVC   #model to be used\n",
        "from sklearn.model_selection import train_test_split  #prepare the dataset\n",
        "from sklearn.metrics import hamming_loss              #meetric to be used\n",
        "import pandas as pd\n",
        "import scipy\n"
      ]
    },
    {
      "cell_type": "markdown",
      "metadata": {
        "id": "bDLxcgMwJEYA"
      },
      "source": [
        "**Mounting Drive**"
      ]
    },
    {
      "cell_type": "code",
      "execution_count": 8,
      "metadata": {
        "colab": {
          "base_uri": "https://localhost:8080/"
        },
        "id": "qxFY0ypTJJK9",
        "outputId": "76bc072a-53e1-4f37-fe1a-47ce0e97cefc"
      },
      "outputs": [
        {
          "output_type": "stream",
          "name": "stdout",
          "text": [
            "Mounted at /content/gDrive/\n"
          ]
        }
      ],
      "source": [
        "\n",
        "from google.colab import drive\n",
        "\n",
        "# it will ask for your google drive credentiaals\n",
        "drive.mount('/content/gDrive/', force_remount=True)"
      ]
    },
    {
      "cell_type": "markdown",
      "source": [
        "# 1 - Multi Label Classification Problems\n"
      ],
      "metadata": {
        "id": "W-9uny3ilsmg"
      }
    },
    {
      "cell_type": "markdown",
      "source": [
        "**Note :**\n",
        "\n",
        "Classification problems are different than regression problems primarily in their outputs. Classification problems involve categorizing data into discrete classes or labels, such as “spam” or “not spam” in email filtering models. In contrast,regression problems predict continuous, numerical outputs, like orecasting sales or temperatures.\n",
        "\n",
        "**Note 2:**\n",
        "\n",
        "\n",
        "**Classification:**\n",
        "*   Simple\n",
        "*   Multi-Class\n",
        "*   Multi-Label\n",
        "\n",
        "Where:\n",
        "\n",
        "* In Simple Classification, the predicted value can be one of the two existing classes;\n",
        "\n",
        "* Int he Mult-Class Classification Problems, the predicted can be one of the many existing classes.\n",
        "\n",
        "* In Multi Label Classification Problems the predicted value can be a combination of all existing labels, i.e., each instance (input) can be assigned multiple labels instead of just one.\n",
        "\n",
        "\n",
        "**Strategies for supporting:**\n",
        "\n",
        "*  Problem Transformation\n",
        "*  Adapting Algorithms\n",
        "\n"
      ],
      "metadata": {
        "id": "Yhz9QWwupiCe"
      }
    },
    {
      "cell_type": "markdown",
      "source": [
        "## 2.1 - Dataset Preparation\n",
        "\n"
      ],
      "metadata": {
        "id": "VFv4l95wtjKT"
      }
    },
    {
      "cell_type": "markdown",
      "source": [
        "### *Download Dataset*\n",
        "\n",
        "This dataset has data about music classification according to several (77) audio technical attributes\n"
      ],
      "metadata": {
        "id": "9z_3Z0WVoiV6"
      }
    },
    {
      "cell_type": "code",
      "source": [
        "#Importing a real world dataset preparaed for Regression\n",
        "\n",
        "filePath='/content/gDrive/MyDrive/Colab Notebooks/MIA - ML - 2024-2025/Datasets/'\n",
        "pd.set_option(\"display.precision\", 2)\n",
        "music = pd.read_csv(filePath+\"Musica.csv\")\n",
        "music.shape"
      ],
      "metadata": {
        "id": "APRXNHdxoiV6",
        "colab": {
          "base_uri": "https://localhost:8080/"
        },
        "outputId": "cf31527b-9c1e-4379-a5aa-5d247a93475e"
      },
      "execution_count": 9,
      "outputs": [
        {
          "output_type": "execute_result",
          "data": {
            "text/plain": [
              "(592, 77)"
            ]
          },
          "metadata": {},
          "execution_count": 9
        }
      ]
    },
    {
      "cell_type": "code",
      "source": [
        "music.head()\n"
      ],
      "metadata": {
        "id": "lL8HmCOzyWgx",
        "colab": {
          "base_uri": "https://localhost:8080/",
          "height": 273
        },
        "outputId": "a89a9420-f389-4fa3-d2b4-c79b7e306465"
      },
      "execution_count": 6,
      "outputs": [
        {
          "output_type": "execute_result",
          "data": {
            "text/plain": [
              "   amazed-suprised  happy-pleased  relaxing-clam  quiet-still  sad-lonely  \\\n",
              "0                0              1              1            0           0   \n",
              "1                1              0              0            0           0   \n",
              "2                0              1              0            0           0   \n",
              "3                0              0              1            0           0   \n",
              "4                0              0              0            1           0   \n",
              "\n",
              "   angry-aggresive  Mean_Acc1298_Mean_Mem40_Centroid  \\\n",
              "0                0                              0.13   \n",
              "1                1                              0.38   \n",
              "2                1                              0.54   \n",
              "3                0                              0.17   \n",
              "4                0                              0.35   \n",
              "\n",
              "   Mean_Acc1298_Mean_Mem40_Rolloff  Mean_Acc1298_Mean_Mem40_Flux  \\\n",
              "0                             0.08                          0.23   \n",
              "1                             0.36                          0.17   \n",
              "2                             0.36                          0.15   \n",
              "3                             0.24                          0.25   \n",
              "4                             0.16                          0.10   \n",
              "\n",
              "   Mean_Acc1298_Mean_Mem40_MFCC_0  ...  Std_Acc1298_Std_Mem40_MFCC_10  \\\n",
              "0                            0.60  ...                           0.20   \n",
              "1                            0.85  ...                           0.09   \n",
              "2                            0.79  ...                           0.20   \n",
              "3                            0.44  ...                           0.24   \n",
              "4                            0.13  ...                           0.72   \n",
              "\n",
              "   Std_Acc1298_Std_Mem40_MFCC_11  Std_Acc1298_Std_Mem40_MFCC_12  \\\n",
              "0                           0.20                           0.16   \n",
              "1                           0.09                           0.03   \n",
              "2                           0.11                           0.14   \n",
              "3                           0.22                           0.24   \n",
              "4                           0.57                           0.41   \n",
              "\n",
              "   BH_LowPeakAmp  BH_LowPeakBPM  BH_HighPeakAmp  BH_HighPeakBPM  BHSUM1  \\\n",
              "0           0.03           0.25        8.47e-03            0.24    0.14   \n",
              "1           0.18           0.29        1.57e-01            0.27    0.19   \n",
              "2           0.10           0.14        0.00e+00            0.59    0.11   \n",
              "3           0.02           0.22        1.17e-01            0.21    0.06   \n",
              "4           0.02           0.76        8.17e-02            0.72    0.11   \n",
              "\n",
              "   BHSUM2  BHSUM3  \n",
              "0    0.06    0.11  \n",
              "1    0.15    0.20  \n",
              "2    0.03    0.12  \n",
              "3    0.13    0.09  \n",
              "4    0.17    0.19  \n",
              "\n",
              "[5 rows x 77 columns]"
            ],
            "text/html": [
              "\n",
              "  <div id=\"df-362ba84a-0b08-498c-9068-3111abf60c8d\" class=\"colab-df-container\">\n",
              "    <div>\n",
              "<style scoped>\n",
              "    .dataframe tbody tr th:only-of-type {\n",
              "        vertical-align: middle;\n",
              "    }\n",
              "\n",
              "    .dataframe tbody tr th {\n",
              "        vertical-align: top;\n",
              "    }\n",
              "\n",
              "    .dataframe thead th {\n",
              "        text-align: right;\n",
              "    }\n",
              "</style>\n",
              "<table border=\"1\" class=\"dataframe\">\n",
              "  <thead>\n",
              "    <tr style=\"text-align: right;\">\n",
              "      <th></th>\n",
              "      <th>amazed-suprised</th>\n",
              "      <th>happy-pleased</th>\n",
              "      <th>relaxing-clam</th>\n",
              "      <th>quiet-still</th>\n",
              "      <th>sad-lonely</th>\n",
              "      <th>angry-aggresive</th>\n",
              "      <th>Mean_Acc1298_Mean_Mem40_Centroid</th>\n",
              "      <th>Mean_Acc1298_Mean_Mem40_Rolloff</th>\n",
              "      <th>Mean_Acc1298_Mean_Mem40_Flux</th>\n",
              "      <th>Mean_Acc1298_Mean_Mem40_MFCC_0</th>\n",
              "      <th>...</th>\n",
              "      <th>Std_Acc1298_Std_Mem40_MFCC_10</th>\n",
              "      <th>Std_Acc1298_Std_Mem40_MFCC_11</th>\n",
              "      <th>Std_Acc1298_Std_Mem40_MFCC_12</th>\n",
              "      <th>BH_LowPeakAmp</th>\n",
              "      <th>BH_LowPeakBPM</th>\n",
              "      <th>BH_HighPeakAmp</th>\n",
              "      <th>BH_HighPeakBPM</th>\n",
              "      <th>BHSUM1</th>\n",
              "      <th>BHSUM2</th>\n",
              "      <th>BHSUM3</th>\n",
              "    </tr>\n",
              "  </thead>\n",
              "  <tbody>\n",
              "    <tr>\n",
              "      <th>0</th>\n",
              "      <td>0</td>\n",
              "      <td>1</td>\n",
              "      <td>1</td>\n",
              "      <td>0</td>\n",
              "      <td>0</td>\n",
              "      <td>0</td>\n",
              "      <td>0.13</td>\n",
              "      <td>0.08</td>\n",
              "      <td>0.23</td>\n",
              "      <td>0.60</td>\n",
              "      <td>...</td>\n",
              "      <td>0.20</td>\n",
              "      <td>0.20</td>\n",
              "      <td>0.16</td>\n",
              "      <td>0.03</td>\n",
              "      <td>0.25</td>\n",
              "      <td>8.47e-03</td>\n",
              "      <td>0.24</td>\n",
              "      <td>0.14</td>\n",
              "      <td>0.06</td>\n",
              "      <td>0.11</td>\n",
              "    </tr>\n",
              "    <tr>\n",
              "      <th>1</th>\n",
              "      <td>1</td>\n",
              "      <td>0</td>\n",
              "      <td>0</td>\n",
              "      <td>0</td>\n",
              "      <td>0</td>\n",
              "      <td>1</td>\n",
              "      <td>0.38</td>\n",
              "      <td>0.36</td>\n",
              "      <td>0.17</td>\n",
              "      <td>0.85</td>\n",
              "      <td>...</td>\n",
              "      <td>0.09</td>\n",
              "      <td>0.09</td>\n",
              "      <td>0.03</td>\n",
              "      <td>0.18</td>\n",
              "      <td>0.29</td>\n",
              "      <td>1.57e-01</td>\n",
              "      <td>0.27</td>\n",
              "      <td>0.19</td>\n",
              "      <td>0.15</td>\n",
              "      <td>0.20</td>\n",
              "    </tr>\n",
              "    <tr>\n",
              "      <th>2</th>\n",
              "      <td>0</td>\n",
              "      <td>1</td>\n",
              "      <td>0</td>\n",
              "      <td>0</td>\n",
              "      <td>0</td>\n",
              "      <td>1</td>\n",
              "      <td>0.54</td>\n",
              "      <td>0.36</td>\n",
              "      <td>0.15</td>\n",
              "      <td>0.79</td>\n",
              "      <td>...</td>\n",
              "      <td>0.20</td>\n",
              "      <td>0.11</td>\n",
              "      <td>0.14</td>\n",
              "      <td>0.10</td>\n",
              "      <td>0.14</td>\n",
              "      <td>0.00e+00</td>\n",
              "      <td>0.59</td>\n",
              "      <td>0.11</td>\n",
              "      <td>0.03</td>\n",
              "      <td>0.12</td>\n",
              "    </tr>\n",
              "    <tr>\n",
              "      <th>3</th>\n",
              "      <td>0</td>\n",
              "      <td>0</td>\n",
              "      <td>1</td>\n",
              "      <td>0</td>\n",
              "      <td>0</td>\n",
              "      <td>0</td>\n",
              "      <td>0.17</td>\n",
              "      <td>0.24</td>\n",
              "      <td>0.25</td>\n",
              "      <td>0.44</td>\n",
              "      <td>...</td>\n",
              "      <td>0.24</td>\n",
              "      <td>0.22</td>\n",
              "      <td>0.24</td>\n",
              "      <td>0.02</td>\n",
              "      <td>0.22</td>\n",
              "      <td>1.17e-01</td>\n",
              "      <td>0.21</td>\n",
              "      <td>0.06</td>\n",
              "      <td>0.13</td>\n",
              "      <td>0.09</td>\n",
              "    </tr>\n",
              "    <tr>\n",
              "      <th>4</th>\n",
              "      <td>0</td>\n",
              "      <td>0</td>\n",
              "      <td>0</td>\n",
              "      <td>1</td>\n",
              "      <td>0</td>\n",
              "      <td>0</td>\n",
              "      <td>0.35</td>\n",
              "      <td>0.16</td>\n",
              "      <td>0.10</td>\n",
              "      <td>0.13</td>\n",
              "      <td>...</td>\n",
              "      <td>0.72</td>\n",
              "      <td>0.57</td>\n",
              "      <td>0.41</td>\n",
              "      <td>0.02</td>\n",
              "      <td>0.76</td>\n",
              "      <td>8.17e-02</td>\n",
              "      <td>0.72</td>\n",
              "      <td>0.11</td>\n",
              "      <td>0.17</td>\n",
              "      <td>0.19</td>\n",
              "    </tr>\n",
              "  </tbody>\n",
              "</table>\n",
              "<p>5 rows × 77 columns</p>\n",
              "</div>\n",
              "    <div class=\"colab-df-buttons\">\n",
              "\n",
              "  <div class=\"colab-df-container\">\n",
              "    <button class=\"colab-df-convert\" onclick=\"convertToInteractive('df-362ba84a-0b08-498c-9068-3111abf60c8d')\"\n",
              "            title=\"Convert this dataframe to an interactive table.\"\n",
              "            style=\"display:none;\">\n",
              "\n",
              "  <svg xmlns=\"http://www.w3.org/2000/svg\" height=\"24px\" viewBox=\"0 -960 960 960\">\n",
              "    <path d=\"M120-120v-720h720v720H120Zm60-500h600v-160H180v160Zm220 220h160v-160H400v160Zm0 220h160v-160H400v160ZM180-400h160v-160H180v160Zm440 0h160v-160H620v160ZM180-180h160v-160H180v160Zm440 0h160v-160H620v160Z\"/>\n",
              "  </svg>\n",
              "    </button>\n",
              "\n",
              "  <style>\n",
              "    .colab-df-container {\n",
              "      display:flex;\n",
              "      gap: 12px;\n",
              "    }\n",
              "\n",
              "    .colab-df-convert {\n",
              "      background-color: #E8F0FE;\n",
              "      border: none;\n",
              "      border-radius: 50%;\n",
              "      cursor: pointer;\n",
              "      display: none;\n",
              "      fill: #1967D2;\n",
              "      height: 32px;\n",
              "      padding: 0 0 0 0;\n",
              "      width: 32px;\n",
              "    }\n",
              "\n",
              "    .colab-df-convert:hover {\n",
              "      background-color: #E2EBFA;\n",
              "      box-shadow: 0px 1px 2px rgba(60, 64, 67, 0.3), 0px 1px 3px 1px rgba(60, 64, 67, 0.15);\n",
              "      fill: #174EA6;\n",
              "    }\n",
              "\n",
              "    .colab-df-buttons div {\n",
              "      margin-bottom: 4px;\n",
              "    }\n",
              "\n",
              "    [theme=dark] .colab-df-convert {\n",
              "      background-color: #3B4455;\n",
              "      fill: #D2E3FC;\n",
              "    }\n",
              "\n",
              "    [theme=dark] .colab-df-convert:hover {\n",
              "      background-color: #434B5C;\n",
              "      box-shadow: 0px 1px 3px 1px rgba(0, 0, 0, 0.15);\n",
              "      filter: drop-shadow(0px 1px 2px rgba(0, 0, 0, 0.3));\n",
              "      fill: #FFFFFF;\n",
              "    }\n",
              "  </style>\n",
              "\n",
              "    <script>\n",
              "      const buttonEl =\n",
              "        document.querySelector('#df-362ba84a-0b08-498c-9068-3111abf60c8d button.colab-df-convert');\n",
              "      buttonEl.style.display =\n",
              "        google.colab.kernel.accessAllowed ? 'block' : 'none';\n",
              "\n",
              "      async function convertToInteractive(key) {\n",
              "        const element = document.querySelector('#df-362ba84a-0b08-498c-9068-3111abf60c8d');\n",
              "        const dataTable =\n",
              "          await google.colab.kernel.invokeFunction('convertToInteractive',\n",
              "                                                    [key], {});\n",
              "        if (!dataTable) return;\n",
              "\n",
              "        const docLinkHtml = 'Like what you see? Visit the ' +\n",
              "          '<a target=\"_blank\" href=https://colab.research.google.com/notebooks/data_table.ipynb>data table notebook</a>'\n",
              "          + ' to learn more about interactive tables.';\n",
              "        element.innerHTML = '';\n",
              "        dataTable['output_type'] = 'display_data';\n",
              "        await google.colab.output.renderOutput(dataTable, element);\n",
              "        const docLink = document.createElement('div');\n",
              "        docLink.innerHTML = docLinkHtml;\n",
              "        element.appendChild(docLink);\n",
              "      }\n",
              "    </script>\n",
              "  </div>\n",
              "\n",
              "\n",
              "<div id=\"df-1c3acfac-c002-4c13-9dd7-74eeb12ae438\">\n",
              "  <button class=\"colab-df-quickchart\" onclick=\"quickchart('df-1c3acfac-c002-4c13-9dd7-74eeb12ae438')\"\n",
              "            title=\"Suggest charts\"\n",
              "            style=\"display:none;\">\n",
              "\n",
              "<svg xmlns=\"http://www.w3.org/2000/svg\" height=\"24px\"viewBox=\"0 0 24 24\"\n",
              "     width=\"24px\">\n",
              "    <g>\n",
              "        <path d=\"M19 3H5c-1.1 0-2 .9-2 2v14c0 1.1.9 2 2 2h14c1.1 0 2-.9 2-2V5c0-1.1-.9-2-2-2zM9 17H7v-7h2v7zm4 0h-2V7h2v10zm4 0h-2v-4h2v4z\"/>\n",
              "    </g>\n",
              "</svg>\n",
              "  </button>\n",
              "\n",
              "<style>\n",
              "  .colab-df-quickchart {\n",
              "      --bg-color: #E8F0FE;\n",
              "      --fill-color: #1967D2;\n",
              "      --hover-bg-color: #E2EBFA;\n",
              "      --hover-fill-color: #174EA6;\n",
              "      --disabled-fill-color: #AAA;\n",
              "      --disabled-bg-color: #DDD;\n",
              "  }\n",
              "\n",
              "  [theme=dark] .colab-df-quickchart {\n",
              "      --bg-color: #3B4455;\n",
              "      --fill-color: #D2E3FC;\n",
              "      --hover-bg-color: #434B5C;\n",
              "      --hover-fill-color: #FFFFFF;\n",
              "      --disabled-bg-color: #3B4455;\n",
              "      --disabled-fill-color: #666;\n",
              "  }\n",
              "\n",
              "  .colab-df-quickchart {\n",
              "    background-color: var(--bg-color);\n",
              "    border: none;\n",
              "    border-radius: 50%;\n",
              "    cursor: pointer;\n",
              "    display: none;\n",
              "    fill: var(--fill-color);\n",
              "    height: 32px;\n",
              "    padding: 0;\n",
              "    width: 32px;\n",
              "  }\n",
              "\n",
              "  .colab-df-quickchart:hover {\n",
              "    background-color: var(--hover-bg-color);\n",
              "    box-shadow: 0 1px 2px rgba(60, 64, 67, 0.3), 0 1px 3px 1px rgba(60, 64, 67, 0.15);\n",
              "    fill: var(--button-hover-fill-color);\n",
              "  }\n",
              "\n",
              "  .colab-df-quickchart-complete:disabled,\n",
              "  .colab-df-quickchart-complete:disabled:hover {\n",
              "    background-color: var(--disabled-bg-color);\n",
              "    fill: var(--disabled-fill-color);\n",
              "    box-shadow: none;\n",
              "  }\n",
              "\n",
              "  .colab-df-spinner {\n",
              "    border: 2px solid var(--fill-color);\n",
              "    border-color: transparent;\n",
              "    border-bottom-color: var(--fill-color);\n",
              "    animation:\n",
              "      spin 1s steps(1) infinite;\n",
              "  }\n",
              "\n",
              "  @keyframes spin {\n",
              "    0% {\n",
              "      border-color: transparent;\n",
              "      border-bottom-color: var(--fill-color);\n",
              "      border-left-color: var(--fill-color);\n",
              "    }\n",
              "    20% {\n",
              "      border-color: transparent;\n",
              "      border-left-color: var(--fill-color);\n",
              "      border-top-color: var(--fill-color);\n",
              "    }\n",
              "    30% {\n",
              "      border-color: transparent;\n",
              "      border-left-color: var(--fill-color);\n",
              "      border-top-color: var(--fill-color);\n",
              "      border-right-color: var(--fill-color);\n",
              "    }\n",
              "    40% {\n",
              "      border-color: transparent;\n",
              "      border-right-color: var(--fill-color);\n",
              "      border-top-color: var(--fill-color);\n",
              "    }\n",
              "    60% {\n",
              "      border-color: transparent;\n",
              "      border-right-color: var(--fill-color);\n",
              "    }\n",
              "    80% {\n",
              "      border-color: transparent;\n",
              "      border-right-color: var(--fill-color);\n",
              "      border-bottom-color: var(--fill-color);\n",
              "    }\n",
              "    90% {\n",
              "      border-color: transparent;\n",
              "      border-bottom-color: var(--fill-color);\n",
              "    }\n",
              "  }\n",
              "</style>\n",
              "\n",
              "  <script>\n",
              "    async function quickchart(key) {\n",
              "      const quickchartButtonEl =\n",
              "        document.querySelector('#' + key + ' button');\n",
              "      quickchartButtonEl.disabled = true;  // To prevent multiple clicks.\n",
              "      quickchartButtonEl.classList.add('colab-df-spinner');\n",
              "      try {\n",
              "        const charts = await google.colab.kernel.invokeFunction(\n",
              "            'suggestCharts', [key], {});\n",
              "      } catch (error) {\n",
              "        console.error('Error during call to suggestCharts:', error);\n",
              "      }\n",
              "      quickchartButtonEl.classList.remove('colab-df-spinner');\n",
              "      quickchartButtonEl.classList.add('colab-df-quickchart-complete');\n",
              "    }\n",
              "    (() => {\n",
              "      let quickchartButtonEl =\n",
              "        document.querySelector('#df-1c3acfac-c002-4c13-9dd7-74eeb12ae438 button');\n",
              "      quickchartButtonEl.style.display =\n",
              "        google.colab.kernel.accessAllowed ? 'block' : 'none';\n",
              "    })();\n",
              "  </script>\n",
              "</div>\n",
              "\n",
              "    </div>\n",
              "  </div>\n"
            ],
            "application/vnd.google.colaboratory.intrinsic+json": {
              "type": "dataframe",
              "variable_name": "music"
            }
          },
          "metadata": {},
          "execution_count": 6
        }
      ]
    },
    {
      "cell_type": "markdown",
      "source": [
        "We want to use the influencing attributes (72) to predict the target 6 categories (type of music)."
      ],
      "metadata": {
        "id": "9tQNAw7noiV6"
      }
    },
    {
      "cell_type": "code",
      "source": [
        "len(music)\n",
        "#answer: more than 50"
      ],
      "metadata": {
        "id": "EtNCUKN0zE3Z",
        "colab": {
          "base_uri": "https://localhost:8080/"
        },
        "outputId": "5cc54211-fd33-4547-83c6-3c331d01972a"
      },
      "execution_count": 7,
      "outputs": [
        {
          "output_type": "execute_result",
          "data": {
            "text/plain": [
              "592"
            ]
          },
          "metadata": {},
          "execution_count": 7
        }
      ]
    },
    {
      "cell_type": "markdown",
      "source": [
        "### Understanding the Dataset"
      ],
      "metadata": {
        "id": "hb1hcfpQzdoq"
      }
    },
    {
      "cell_type": "code",
      "source": [
        "labelClassses = music.iloc[:,0:6].values\n",
        "attributes = music.iloc[:,7:78].values\n",
        "#attributes\n",
        "#DlabelClassses"
      ],
      "metadata": {
        "id": "QU5_9PDN1W86"
      },
      "execution_count": 10,
      "outputs": []
    },
    {
      "cell_type": "code",
      "source": [
        "# Class labels : type of musics\n",
        "music.columns[:6]"
      ],
      "metadata": {
        "colab": {
          "base_uri": "https://localhost:8080/"
        },
        "id": "qgC17L672Zjj",
        "outputId": "01544f75-7d42-492e-b864-a362c54f9525"
      },
      "execution_count": 16,
      "outputs": [
        {
          "output_type": "execute_result",
          "data": {
            "text/plain": [
              "Index(['amazed-suprised', 'happy-pleased', 'relaxing-clam', 'quiet-still',\n",
              "       'sad-lonely', 'angry-aggresive'],\n",
              "      dtype='object')"
            ]
          },
          "metadata": {},
          "execution_count": 16
        }
      ]
    },
    {
      "cell_type": "code",
      "source": [
        "#Influencing Attributes\n",
        "music.columns[7:78]"
      ],
      "metadata": {
        "id": "Uzum63k13HoC"
      },
      "execution_count": null,
      "outputs": []
    },
    {
      "cell_type": "markdown",
      "source": [
        "### Analysing initial dataset profile"
      ],
      "metadata": {
        "id": "iQZ8JEtw3q3x"
      }
    },
    {
      "cell_type": "code",
      "source": [
        "#! pip install https://github.com/pandas-profiling/pandas-profiling/archive/master.zip"
      ],
      "metadata": {
        "id": "6BZVGmz90Rcd"
      },
      "execution_count": null,
      "outputs": []
    },
    {
      "cell_type": "code",
      "source": [
        "#from pandas_profiling import ProfileReport"
      ],
      "metadata": {
        "id": "XY-G_poD23mI",
        "colab": {
          "base_uri": "https://localhost:8080/"
        },
        "outputId": "30eebb55-3135-4f9e-d335-d3f332dd6802"
      },
      "execution_count": 24,
      "outputs": [
        {
          "output_type": "stream",
          "name": "stderr",
          "text": [
            "<ipython-input-24-e2a33329b6f0>:1: DeprecationWarning: `import pandas_profiling` is going to be deprecated by April 1st. Please use `import ydata_profiling` instead.\n",
            "  from pandas_profiling import ProfileReport\n"
          ]
        }
      ]
    },
    {
      "cell_type": "code",
      "source": [
        "#profile = ProfileReport(music, title=\"Music Types\", html={'style' : {'full_width':True}})\n",
        "#send result to file\n",
        "#profile.to_file(output_file=filePath+\"MusicTypes.html\")\n",
        "#ATTENTION: it takes to long..."
      ],
      "metadata": {
        "id": "ygk2ZT5B46S_"
      },
      "execution_count": null,
      "outputs": []
    },
    {
      "cell_type": "markdown",
      "source": [
        "### Prepare the trainning dataset"
      ],
      "metadata": {
        "id": "t7HftZF732Jn"
      }
    },
    {
      "cell_type": "code",
      "source": [
        "X_train, X_test, y_train, y_test = train_test_split(attributes, labelClassses, test_size=0.3, random_state=0)\n"
      ],
      "metadata": {
        "id": "sx-DWYiW39Q1"
      },
      "execution_count": 11,
      "outputs": []
    },
    {
      "cell_type": "markdown",
      "source": [
        "## 2.2 - Strategy A - Adapting Algoritm\n",
        "\n",
        "\n",
        "We are going to explore the Multi-label ARAM model.\n",
        "\n",
        "MLARAM - Machine Learning Adaptive Resonance Associative Map\n",
        "\n",
        ">Is a neural network model based on *Adaptive Resonance Theory (ART)*. It is used for incremental learning, pattern recognition, and classification tasks.\n",
        "\n",
        "\n",
        ">MLARAM is great for adaptive, real-time learning.\n",
        "\n",
        "See: http://scikit.ml/api/skmultilearn.adapt.mlaram.html"
      ],
      "metadata": {
        "id": "-ePtb9BQ1dGP"
      }
    },
    {
      "cell_type": "code",
      "source": [
        "import numpy as np\n",
        "import scipy\n",
        "\n",
        "scipy.ones = np.ones    #scipy.ones was deprecated"
      ],
      "metadata": {
        "id": "6omMDgZDAhX8"
      },
      "execution_count": 12,
      "outputs": []
    },
    {
      "cell_type": "code",
      "source": [
        "#create an instance of the MLARAM model\n",
        "ann = MLARAM()\n",
        "ann.fit(X_train, y_train)"
      ],
      "metadata": {
        "colab": {
          "base_uri": "https://localhost:8080/",
          "height": 257
        },
        "id": "4Da_gqJl8M3c",
        "outputId": "6a9957af-327d-43b3-b27d-1c2154121277"
      },
      "execution_count": 13,
      "outputs": [
        {
          "output_type": "execute_result",
          "data": {
            "text/plain": [
              "MLARAM(neurons=[<skmultilearn.adapt.mlaram.Neuron object at 0x7b5e7c476590>,\n",
              "                <skmultilearn.adapt.mlaram.Neuron object at 0x7b5e7aba4810>,\n",
              "                <skmultilearn.adapt.mlaram.Neuron object at 0x7b5e7cb022d0>,\n",
              "                <skmultilearn.adapt.mlaram.Neuron object at 0x7b5e7b3f95d0>,\n",
              "                <skmultilearn.adapt.mlaram.Neuron object at 0x7b5e7ab21fd0>,\n",
              "                <skmultilearn.adapt.mlaram.Neuron object at 0x7b5e7a...\n",
              "                <skmultilearn.adapt.mlaram.Neuron object at 0x7b5e7abb49d0>,\n",
              "                <skmultilearn.adapt.mlaram.Neuron object at 0x7b5e7abb48d0>,\n",
              "                <skmultilearn.adapt.mlaram.Neuron object at 0x7b5e7abb4890>,\n",
              "                <skmultilearn.adapt.mlaram.Neuron object at 0x7b5e7abb4910>,\n",
              "                <skmultilearn.adapt.mlaram.Neuron object at 0x7b5e7abb4810>,\n",
              "                <skmultilearn.adapt.mlaram.Neuron object at 0x7b5e7abb4790>,\n",
              "                <skmultilearn.adapt.mlaram.Neuron object at 0x7b5e7abb47d0>, ...])"
            ],
            "text/html": [
              "<style>#sk-container-id-1 {\n",
              "  /* Definition of color scheme common for light and dark mode */\n",
              "  --sklearn-color-text: #000;\n",
              "  --sklearn-color-text-muted: #666;\n",
              "  --sklearn-color-line: gray;\n",
              "  /* Definition of color scheme for unfitted estimators */\n",
              "  --sklearn-color-unfitted-level-0: #fff5e6;\n",
              "  --sklearn-color-unfitted-level-1: #f6e4d2;\n",
              "  --sklearn-color-unfitted-level-2: #ffe0b3;\n",
              "  --sklearn-color-unfitted-level-3: chocolate;\n",
              "  /* Definition of color scheme for fitted estimators */\n",
              "  --sklearn-color-fitted-level-0: #f0f8ff;\n",
              "  --sklearn-color-fitted-level-1: #d4ebff;\n",
              "  --sklearn-color-fitted-level-2: #b3dbfd;\n",
              "  --sklearn-color-fitted-level-3: cornflowerblue;\n",
              "\n",
              "  /* Specific color for light theme */\n",
              "  --sklearn-color-text-on-default-background: var(--sg-text-color, var(--theme-code-foreground, var(--jp-content-font-color1, black)));\n",
              "  --sklearn-color-background: var(--sg-background-color, var(--theme-background, var(--jp-layout-color0, white)));\n",
              "  --sklearn-color-border-box: var(--sg-text-color, var(--theme-code-foreground, var(--jp-content-font-color1, black)));\n",
              "  --sklearn-color-icon: #696969;\n",
              "\n",
              "  @media (prefers-color-scheme: dark) {\n",
              "    /* Redefinition of color scheme for dark theme */\n",
              "    --sklearn-color-text-on-default-background: var(--sg-text-color, var(--theme-code-foreground, var(--jp-content-font-color1, white)));\n",
              "    --sklearn-color-background: var(--sg-background-color, var(--theme-background, var(--jp-layout-color0, #111)));\n",
              "    --sklearn-color-border-box: var(--sg-text-color, var(--theme-code-foreground, var(--jp-content-font-color1, white)));\n",
              "    --sklearn-color-icon: #878787;\n",
              "  }\n",
              "}\n",
              "\n",
              "#sk-container-id-1 {\n",
              "  color: var(--sklearn-color-text);\n",
              "}\n",
              "\n",
              "#sk-container-id-1 pre {\n",
              "  padding: 0;\n",
              "}\n",
              "\n",
              "#sk-container-id-1 input.sk-hidden--visually {\n",
              "  border: 0;\n",
              "  clip: rect(1px 1px 1px 1px);\n",
              "  clip: rect(1px, 1px, 1px, 1px);\n",
              "  height: 1px;\n",
              "  margin: -1px;\n",
              "  overflow: hidden;\n",
              "  padding: 0;\n",
              "  position: absolute;\n",
              "  width: 1px;\n",
              "}\n",
              "\n",
              "#sk-container-id-1 div.sk-dashed-wrapped {\n",
              "  border: 1px dashed var(--sklearn-color-line);\n",
              "  margin: 0 0.4em 0.5em 0.4em;\n",
              "  box-sizing: border-box;\n",
              "  padding-bottom: 0.4em;\n",
              "  background-color: var(--sklearn-color-background);\n",
              "}\n",
              "\n",
              "#sk-container-id-1 div.sk-container {\n",
              "  /* jupyter's `normalize.less` sets `[hidden] { display: none; }`\n",
              "     but bootstrap.min.css set `[hidden] { display: none !important; }`\n",
              "     so we also need the `!important` here to be able to override the\n",
              "     default hidden behavior on the sphinx rendered scikit-learn.org.\n",
              "     See: https://github.com/scikit-learn/scikit-learn/issues/21755 */\n",
              "  display: inline-block !important;\n",
              "  position: relative;\n",
              "}\n",
              "\n",
              "#sk-container-id-1 div.sk-text-repr-fallback {\n",
              "  display: none;\n",
              "}\n",
              "\n",
              "div.sk-parallel-item,\n",
              "div.sk-serial,\n",
              "div.sk-item {\n",
              "  /* draw centered vertical line to link estimators */\n",
              "  background-image: linear-gradient(var(--sklearn-color-text-on-default-background), var(--sklearn-color-text-on-default-background));\n",
              "  background-size: 2px 100%;\n",
              "  background-repeat: no-repeat;\n",
              "  background-position: center center;\n",
              "}\n",
              "\n",
              "/* Parallel-specific style estimator block */\n",
              "\n",
              "#sk-container-id-1 div.sk-parallel-item::after {\n",
              "  content: \"\";\n",
              "  width: 100%;\n",
              "  border-bottom: 2px solid var(--sklearn-color-text-on-default-background);\n",
              "  flex-grow: 1;\n",
              "}\n",
              "\n",
              "#sk-container-id-1 div.sk-parallel {\n",
              "  display: flex;\n",
              "  align-items: stretch;\n",
              "  justify-content: center;\n",
              "  background-color: var(--sklearn-color-background);\n",
              "  position: relative;\n",
              "}\n",
              "\n",
              "#sk-container-id-1 div.sk-parallel-item {\n",
              "  display: flex;\n",
              "  flex-direction: column;\n",
              "}\n",
              "\n",
              "#sk-container-id-1 div.sk-parallel-item:first-child::after {\n",
              "  align-self: flex-end;\n",
              "  width: 50%;\n",
              "}\n",
              "\n",
              "#sk-container-id-1 div.sk-parallel-item:last-child::after {\n",
              "  align-self: flex-start;\n",
              "  width: 50%;\n",
              "}\n",
              "\n",
              "#sk-container-id-1 div.sk-parallel-item:only-child::after {\n",
              "  width: 0;\n",
              "}\n",
              "\n",
              "/* Serial-specific style estimator block */\n",
              "\n",
              "#sk-container-id-1 div.sk-serial {\n",
              "  display: flex;\n",
              "  flex-direction: column;\n",
              "  align-items: center;\n",
              "  background-color: var(--sklearn-color-background);\n",
              "  padding-right: 1em;\n",
              "  padding-left: 1em;\n",
              "}\n",
              "\n",
              "\n",
              "/* Toggleable style: style used for estimator/Pipeline/ColumnTransformer box that is\n",
              "clickable and can be expanded/collapsed.\n",
              "- Pipeline and ColumnTransformer use this feature and define the default style\n",
              "- Estimators will overwrite some part of the style using the `sk-estimator` class\n",
              "*/\n",
              "\n",
              "/* Pipeline and ColumnTransformer style (default) */\n",
              "\n",
              "#sk-container-id-1 div.sk-toggleable {\n",
              "  /* Default theme specific background. It is overwritten whether we have a\n",
              "  specific estimator or a Pipeline/ColumnTransformer */\n",
              "  background-color: var(--sklearn-color-background);\n",
              "}\n",
              "\n",
              "/* Toggleable label */\n",
              "#sk-container-id-1 label.sk-toggleable__label {\n",
              "  cursor: pointer;\n",
              "  display: flex;\n",
              "  width: 100%;\n",
              "  margin-bottom: 0;\n",
              "  padding: 0.5em;\n",
              "  box-sizing: border-box;\n",
              "  text-align: center;\n",
              "  align-items: start;\n",
              "  justify-content: space-between;\n",
              "  gap: 0.5em;\n",
              "}\n",
              "\n",
              "#sk-container-id-1 label.sk-toggleable__label .caption {\n",
              "  font-size: 0.6rem;\n",
              "  font-weight: lighter;\n",
              "  color: var(--sklearn-color-text-muted);\n",
              "}\n",
              "\n",
              "#sk-container-id-1 label.sk-toggleable__label-arrow:before {\n",
              "  /* Arrow on the left of the label */\n",
              "  content: \"▸\";\n",
              "  float: left;\n",
              "  margin-right: 0.25em;\n",
              "  color: var(--sklearn-color-icon);\n",
              "}\n",
              "\n",
              "#sk-container-id-1 label.sk-toggleable__label-arrow:hover:before {\n",
              "  color: var(--sklearn-color-text);\n",
              "}\n",
              "\n",
              "/* Toggleable content - dropdown */\n",
              "\n",
              "#sk-container-id-1 div.sk-toggleable__content {\n",
              "  max-height: 0;\n",
              "  max-width: 0;\n",
              "  overflow: hidden;\n",
              "  text-align: left;\n",
              "  /* unfitted */\n",
              "  background-color: var(--sklearn-color-unfitted-level-0);\n",
              "}\n",
              "\n",
              "#sk-container-id-1 div.sk-toggleable__content.fitted {\n",
              "  /* fitted */\n",
              "  background-color: var(--sklearn-color-fitted-level-0);\n",
              "}\n",
              "\n",
              "#sk-container-id-1 div.sk-toggleable__content pre {\n",
              "  margin: 0.2em;\n",
              "  border-radius: 0.25em;\n",
              "  color: var(--sklearn-color-text);\n",
              "  /* unfitted */\n",
              "  background-color: var(--sklearn-color-unfitted-level-0);\n",
              "}\n",
              "\n",
              "#sk-container-id-1 div.sk-toggleable__content.fitted pre {\n",
              "  /* unfitted */\n",
              "  background-color: var(--sklearn-color-fitted-level-0);\n",
              "}\n",
              "\n",
              "#sk-container-id-1 input.sk-toggleable__control:checked~div.sk-toggleable__content {\n",
              "  /* Expand drop-down */\n",
              "  max-height: 200px;\n",
              "  max-width: 100%;\n",
              "  overflow: auto;\n",
              "}\n",
              "\n",
              "#sk-container-id-1 input.sk-toggleable__control:checked~label.sk-toggleable__label-arrow:before {\n",
              "  content: \"▾\";\n",
              "}\n",
              "\n",
              "/* Pipeline/ColumnTransformer-specific style */\n",
              "\n",
              "#sk-container-id-1 div.sk-label input.sk-toggleable__control:checked~label.sk-toggleable__label {\n",
              "  color: var(--sklearn-color-text);\n",
              "  background-color: var(--sklearn-color-unfitted-level-2);\n",
              "}\n",
              "\n",
              "#sk-container-id-1 div.sk-label.fitted input.sk-toggleable__control:checked~label.sk-toggleable__label {\n",
              "  background-color: var(--sklearn-color-fitted-level-2);\n",
              "}\n",
              "\n",
              "/* Estimator-specific style */\n",
              "\n",
              "/* Colorize estimator box */\n",
              "#sk-container-id-1 div.sk-estimator input.sk-toggleable__control:checked~label.sk-toggleable__label {\n",
              "  /* unfitted */\n",
              "  background-color: var(--sklearn-color-unfitted-level-2);\n",
              "}\n",
              "\n",
              "#sk-container-id-1 div.sk-estimator.fitted input.sk-toggleable__control:checked~label.sk-toggleable__label {\n",
              "  /* fitted */\n",
              "  background-color: var(--sklearn-color-fitted-level-2);\n",
              "}\n",
              "\n",
              "#sk-container-id-1 div.sk-label label.sk-toggleable__label,\n",
              "#sk-container-id-1 div.sk-label label {\n",
              "  /* The background is the default theme color */\n",
              "  color: var(--sklearn-color-text-on-default-background);\n",
              "}\n",
              "\n",
              "/* On hover, darken the color of the background */\n",
              "#sk-container-id-1 div.sk-label:hover label.sk-toggleable__label {\n",
              "  color: var(--sklearn-color-text);\n",
              "  background-color: var(--sklearn-color-unfitted-level-2);\n",
              "}\n",
              "\n",
              "/* Label box, darken color on hover, fitted */\n",
              "#sk-container-id-1 div.sk-label.fitted:hover label.sk-toggleable__label.fitted {\n",
              "  color: var(--sklearn-color-text);\n",
              "  background-color: var(--sklearn-color-fitted-level-2);\n",
              "}\n",
              "\n",
              "/* Estimator label */\n",
              "\n",
              "#sk-container-id-1 div.sk-label label {\n",
              "  font-family: monospace;\n",
              "  font-weight: bold;\n",
              "  display: inline-block;\n",
              "  line-height: 1.2em;\n",
              "}\n",
              "\n",
              "#sk-container-id-1 div.sk-label-container {\n",
              "  text-align: center;\n",
              "}\n",
              "\n",
              "/* Estimator-specific */\n",
              "#sk-container-id-1 div.sk-estimator {\n",
              "  font-family: monospace;\n",
              "  border: 1px dotted var(--sklearn-color-border-box);\n",
              "  border-radius: 0.25em;\n",
              "  box-sizing: border-box;\n",
              "  margin-bottom: 0.5em;\n",
              "  /* unfitted */\n",
              "  background-color: var(--sklearn-color-unfitted-level-0);\n",
              "}\n",
              "\n",
              "#sk-container-id-1 div.sk-estimator.fitted {\n",
              "  /* fitted */\n",
              "  background-color: var(--sklearn-color-fitted-level-0);\n",
              "}\n",
              "\n",
              "/* on hover */\n",
              "#sk-container-id-1 div.sk-estimator:hover {\n",
              "  /* unfitted */\n",
              "  background-color: var(--sklearn-color-unfitted-level-2);\n",
              "}\n",
              "\n",
              "#sk-container-id-1 div.sk-estimator.fitted:hover {\n",
              "  /* fitted */\n",
              "  background-color: var(--sklearn-color-fitted-level-2);\n",
              "}\n",
              "\n",
              "/* Specification for estimator info (e.g. \"i\" and \"?\") */\n",
              "\n",
              "/* Common style for \"i\" and \"?\" */\n",
              "\n",
              ".sk-estimator-doc-link,\n",
              "a:link.sk-estimator-doc-link,\n",
              "a:visited.sk-estimator-doc-link {\n",
              "  float: right;\n",
              "  font-size: smaller;\n",
              "  line-height: 1em;\n",
              "  font-family: monospace;\n",
              "  background-color: var(--sklearn-color-background);\n",
              "  border-radius: 1em;\n",
              "  height: 1em;\n",
              "  width: 1em;\n",
              "  text-decoration: none !important;\n",
              "  margin-left: 0.5em;\n",
              "  text-align: center;\n",
              "  /* unfitted */\n",
              "  border: var(--sklearn-color-unfitted-level-1) 1pt solid;\n",
              "  color: var(--sklearn-color-unfitted-level-1);\n",
              "}\n",
              "\n",
              ".sk-estimator-doc-link.fitted,\n",
              "a:link.sk-estimator-doc-link.fitted,\n",
              "a:visited.sk-estimator-doc-link.fitted {\n",
              "  /* fitted */\n",
              "  border: var(--sklearn-color-fitted-level-1) 1pt solid;\n",
              "  color: var(--sklearn-color-fitted-level-1);\n",
              "}\n",
              "\n",
              "/* On hover */\n",
              "div.sk-estimator:hover .sk-estimator-doc-link:hover,\n",
              ".sk-estimator-doc-link:hover,\n",
              "div.sk-label-container:hover .sk-estimator-doc-link:hover,\n",
              ".sk-estimator-doc-link:hover {\n",
              "  /* unfitted */\n",
              "  background-color: var(--sklearn-color-unfitted-level-3);\n",
              "  color: var(--sklearn-color-background);\n",
              "  text-decoration: none;\n",
              "}\n",
              "\n",
              "div.sk-estimator.fitted:hover .sk-estimator-doc-link.fitted:hover,\n",
              ".sk-estimator-doc-link.fitted:hover,\n",
              "div.sk-label-container:hover .sk-estimator-doc-link.fitted:hover,\n",
              ".sk-estimator-doc-link.fitted:hover {\n",
              "  /* fitted */\n",
              "  background-color: var(--sklearn-color-fitted-level-3);\n",
              "  color: var(--sklearn-color-background);\n",
              "  text-decoration: none;\n",
              "}\n",
              "\n",
              "/* Span, style for the box shown on hovering the info icon */\n",
              ".sk-estimator-doc-link span {\n",
              "  display: none;\n",
              "  z-index: 9999;\n",
              "  position: relative;\n",
              "  font-weight: normal;\n",
              "  right: .2ex;\n",
              "  padding: .5ex;\n",
              "  margin: .5ex;\n",
              "  width: min-content;\n",
              "  min-width: 20ex;\n",
              "  max-width: 50ex;\n",
              "  color: var(--sklearn-color-text);\n",
              "  box-shadow: 2pt 2pt 4pt #999;\n",
              "  /* unfitted */\n",
              "  background: var(--sklearn-color-unfitted-level-0);\n",
              "  border: .5pt solid var(--sklearn-color-unfitted-level-3);\n",
              "}\n",
              "\n",
              ".sk-estimator-doc-link.fitted span {\n",
              "  /* fitted */\n",
              "  background: var(--sklearn-color-fitted-level-0);\n",
              "  border: var(--sklearn-color-fitted-level-3);\n",
              "}\n",
              "\n",
              ".sk-estimator-doc-link:hover span {\n",
              "  display: block;\n",
              "}\n",
              "\n",
              "/* \"?\"-specific style due to the `<a>` HTML tag */\n",
              "\n",
              "#sk-container-id-1 a.estimator_doc_link {\n",
              "  float: right;\n",
              "  font-size: 1rem;\n",
              "  line-height: 1em;\n",
              "  font-family: monospace;\n",
              "  background-color: var(--sklearn-color-background);\n",
              "  border-radius: 1rem;\n",
              "  height: 1rem;\n",
              "  width: 1rem;\n",
              "  text-decoration: none;\n",
              "  /* unfitted */\n",
              "  color: var(--sklearn-color-unfitted-level-1);\n",
              "  border: var(--sklearn-color-unfitted-level-1) 1pt solid;\n",
              "}\n",
              "\n",
              "#sk-container-id-1 a.estimator_doc_link.fitted {\n",
              "  /* fitted */\n",
              "  border: var(--sklearn-color-fitted-level-1) 1pt solid;\n",
              "  color: var(--sklearn-color-fitted-level-1);\n",
              "}\n",
              "\n",
              "/* On hover */\n",
              "#sk-container-id-1 a.estimator_doc_link:hover {\n",
              "  /* unfitted */\n",
              "  background-color: var(--sklearn-color-unfitted-level-3);\n",
              "  color: var(--sklearn-color-background);\n",
              "  text-decoration: none;\n",
              "}\n",
              "\n",
              "#sk-container-id-1 a.estimator_doc_link.fitted:hover {\n",
              "  /* fitted */\n",
              "  background-color: var(--sklearn-color-fitted-level-3);\n",
              "}\n",
              "</style><div id=\"sk-container-id-1\" class=\"sk-top-container\"><div class=\"sk-text-repr-fallback\"><pre>MLARAM(neurons=[&lt;skmultilearn.adapt.mlaram.Neuron object at 0x7b5e7c476590&gt;,\n",
              "                &lt;skmultilearn.adapt.mlaram.Neuron object at 0x7b5e7aba4810&gt;,\n",
              "                &lt;skmultilearn.adapt.mlaram.Neuron object at 0x7b5e7cb022d0&gt;,\n",
              "                &lt;skmultilearn.adapt.mlaram.Neuron object at 0x7b5e7b3f95d0&gt;,\n",
              "                &lt;skmultilearn.adapt.mlaram.Neuron object at 0x7b5e7ab21fd0&gt;,\n",
              "                &lt;skmultilearn.adapt.mlaram.Neuron object at 0x7b5e7a...\n",
              "                &lt;skmultilearn.adapt.mlaram.Neuron object at 0x7b5e7abb49d0&gt;,\n",
              "                &lt;skmultilearn.adapt.mlaram.Neuron object at 0x7b5e7abb48d0&gt;,\n",
              "                &lt;skmultilearn.adapt.mlaram.Neuron object at 0x7b5e7abb4890&gt;,\n",
              "                &lt;skmultilearn.adapt.mlaram.Neuron object at 0x7b5e7abb4910&gt;,\n",
              "                &lt;skmultilearn.adapt.mlaram.Neuron object at 0x7b5e7abb4810&gt;,\n",
              "                &lt;skmultilearn.adapt.mlaram.Neuron object at 0x7b5e7abb4790&gt;,\n",
              "                &lt;skmultilearn.adapt.mlaram.Neuron object at 0x7b5e7abb47d0&gt;, ...])</pre><b>In a Jupyter environment, please rerun this cell to show the HTML representation or trust the notebook. <br />On GitHub, the HTML representation is unable to render, please try loading this page with nbviewer.org.</b></div><div class=\"sk-container\" hidden><div class=\"sk-item\"><div class=\"sk-estimator  sk-toggleable\"><input class=\"sk-toggleable__control sk-hidden--visually\" id=\"sk-estimator-id-1\" type=\"checkbox\" checked><label for=\"sk-estimator-id-1\" class=\"sk-toggleable__label  sk-toggleable__label-arrow\"><div><div>MLARAM</div></div><div><span class=\"sk-estimator-doc-link \">i<span>Not fitted</span></span></div></label><div class=\"sk-toggleable__content \"><pre>MLARAM(neurons=[&lt;skmultilearn.adapt.mlaram.Neuron object at 0x7b5e7c476590&gt;,\n",
              "                &lt;skmultilearn.adapt.mlaram.Neuron object at 0x7b5e7aba4810&gt;,\n",
              "                &lt;skmultilearn.adapt.mlaram.Neuron object at 0x7b5e7cb022d0&gt;,\n",
              "                &lt;skmultilearn.adapt.mlaram.Neuron object at 0x7b5e7b3f95d0&gt;,\n",
              "                &lt;skmultilearn.adapt.mlaram.Neuron object at 0x7b5e7ab21fd0&gt;,\n",
              "                &lt;skmultilearn.adapt.mlaram.Neuron object at 0x7b5e7a...\n",
              "                &lt;skmultilearn.adapt.mlaram.Neuron object at 0x7b5e7abb49d0&gt;,\n",
              "                &lt;skmultilearn.adapt.mlaram.Neuron object at 0x7b5e7abb48d0&gt;,\n",
              "                &lt;skmultilearn.adapt.mlaram.Neuron object at 0x7b5e7abb4890&gt;,\n",
              "                &lt;skmultilearn.adapt.mlaram.Neuron object at 0x7b5e7abb4910&gt;,\n",
              "                &lt;skmultilearn.adapt.mlaram.Neuron object at 0x7b5e7abb4810&gt;,\n",
              "                &lt;skmultilearn.adapt.mlaram.Neuron object at 0x7b5e7abb4790&gt;,\n",
              "                &lt;skmultilearn.adapt.mlaram.Neuron object at 0x7b5e7abb47d0&gt;, ...])</pre></div> </div></div></div></div>"
            ]
          },
          "metadata": {},
          "execution_count": 13
        }
      ]
    },
    {
      "cell_type": "code",
      "source": [
        "#make predictions\n",
        "pred1 = ann.predict(X_test)\n",
        "#evaluate\n",
        "print(f\"Hamming Loss:  {hamming_loss(y_test,pred1)}\")\n",
        "#Harmming Loss is a Lost Function =>t he lower value, the best performance"
      ],
      "metadata": {
        "colab": {
          "base_uri": "https://localhost:8080/"
        },
        "id": "K3mqLUqd9Ze9",
        "outputId": "ae659d63-b66d-4b8e-84de-e8a1009ce811"
      },
      "execution_count": 14,
      "outputs": [
        {
          "output_type": "stream",
          "name": "stdout",
          "text": [
            "Hamming Loss:  0.24906367041198502\n"
          ]
        }
      ]
    },
    {
      "cell_type": "markdown",
      "source": [
        "## 2.3 - Strategy B: Problem Transformation\n",
        "\n",
        "* In all cases we'll explore the SVC (Support Vector Classifier) as base classification model."
      ],
      "metadata": {
        "id": "V1mKTZ_0fwkv"
      }
    },
    {
      "cell_type": "markdown",
      "source": [
        "### **2.3.1 - Using Binary Relevance**\n",
        "\n",
        "* Binary Relevance explore an individual binary classification between attributes and each class.\n",
        "\n",
        "* It prepares the data (transform the data) to be used by a normal classification model.\n"
      ],
      "metadata": {
        "id": "ztHw8B8ggDkh"
      }
    },
    {
      "cell_type": "code",
      "source": [
        "# Binary Relevance with SVC\n",
        "# Define a base classifier\n",
        "binary = BinaryRelevance(classifier=SVC())\n",
        "binary.fit(X_train, y_train)    #train\n",
        "pred2 = binary.predict(X_test)  #predict\n",
        "print(f\"Hamming Loss:  {hamming_loss(y_test,pred2)}\") #evaluate\n",
        "#better performance?\n",
        "#Yes! indeed the HL is lower!"
      ],
      "metadata": {
        "colab": {
          "base_uri": "https://localhost:8080/"
        },
        "id": "tD4pEtItA4wX",
        "outputId": "a09d3b0d-e210-4ed1-9da9-2d595b061c57"
      },
      "execution_count": 15,
      "outputs": [
        {
          "output_type": "stream",
          "name": "stdout",
          "text": [
            "Hamming Loss:  0.199438202247191\n"
          ]
        }
      ]
    },
    {
      "cell_type": "markdown",
      "source": [
        "### **2.3.1 - Using Classifier Chain**\n",
        "\n",
        "* Ensemble method used for multi-label classification, where labels are not independent but may have dependencies.\n",
        "\n",
        "* It also prepares the data (transform the data) to be used by a normal classification model.\n",
        "\n",
        "* Transforms multi-label classification into a sequence of binary classification problems:\n",
        "  * Train one classifier per label.\n",
        "  * Pass the predictions of previous classifiers as additional features to the next classifiers.\n"
      ],
      "metadata": {
        "id": "7TRLeXMmiq7t"
      }
    },
    {
      "cell_type": "code",
      "source": [
        "# Create Classifier Chain using SVC as base classifier\n",
        "chain = ClassifierChain(classifier=SVC())\n",
        "#train the model\n",
        "chain.fit(X_train, y_train)\n",
        "#predict\n",
        "pred3 = chain.predict(X_test)\n",
        "#evaluate\n",
        "print(f\"Hamming Loss:  {hamming_loss(y_test,pred3)}\")"
      ],
      "metadata": {
        "colab": {
          "base_uri": "https://localhost:8080/"
        },
        "id": "DxQ5_I6LBNg5",
        "outputId": "fc2645b7-be44-42a0-9872-e09a91881025"
      },
      "execution_count": 16,
      "outputs": [
        {
          "output_type": "stream",
          "name": "stdout",
          "text": [
            "Hamming Loss:  0.2340823970037453\n"
          ]
        }
      ]
    },
    {
      "cell_type": "code",
      "source": [
        "#H2\n",
        "#using Randon Forest base model\n",
        "from sklearn.ensemble import RandomForestClassifier\n",
        "from sklearn.multioutput import ClassifierChain\n",
        "# Define a base classifier (e.g., Random Forest)\n",
        "base_model = RandomForestClassifier(n_estimators=100, random_state=42)\n",
        "# Create Classifier Chain\n",
        "chain_model = ClassifierChain(base_model, order='random')\n",
        "# Train the model\n",
        "chain_model.fit(X_train, y_train)\n",
        "\n",
        "# Predict\n",
        "pred4 = chain_model.predict(X_test)\n",
        "\n",
        "# Convert sparse matrix to NumPy array (if needed)\n",
        "if scipy.sparse.issparse(pred4):\n",
        "    pred4 = pred4.toarray()\n",
        "\n",
        "#Note:\n",
        "#y_test is a binary indicator matrix (only 0s and 1s).\n",
        "# pred4 is not in binary format—it contains continuous values (probabilities) instead of 0s and 1s.\n",
        "# this happens because RandomForestClassifier outputs probabilities rather than hard label assignments.\n",
        "# Convert predictions to binary format (0s and 1s)\n",
        "pred4 = (pred4 >= 0.5).astype(int)  # Apply threshold at 0.5\n",
        "\n",
        "# Compute Hamming Loss\n",
        "hl = hamming_loss(y_test, pred4)\n",
        "\n",
        "# Print first 5 predictions\n",
        "# print(pred4[:5])\n",
        "\n",
        "print(f\"Hamming Loss: {hl:.4f}\")\n",
        "\n",
        "# ATTENTION:\n",
        "# Even the HL is lower (performed better) it should not be compared, because the base model are different\n",
        "# (SVC and RF)"
      ],
      "metadata": {
        "colab": {
          "base_uri": "https://localhost:8080/"
        },
        "id": "0RLXUT5ylWis",
        "outputId": "bb8e0738-a7eb-406c-ec9c-5628e62fa731"
      },
      "execution_count": 41,
      "outputs": [
        {
          "output_type": "stream",
          "name": "stdout",
          "text": [
            "Hamming Loss: 0.1910\n"
          ]
        }
      ]
    },
    {
      "cell_type": "markdown",
      "source": [
        "### **2.3.1 - Using Label Powerset**\n",
        "\n",
        "* Create a new class label for any common sequence of used classes\n",
        "* Transforms the problem into a multi-class classification problem\n",
        "* Instead of treating each label separately (like Binary Relevance) or chaining them (like Classifier Chain), Label Powerset treats each unique combination of labels as a single class.\n",
        "\n",
        ">Works well when label dependencies are important\n",
        "\n",
        ">✅ More efficient than training separate classifiers for each label\n",
        "\n",
        ">🚫 Not good for large numbers of labels (too many unique combinations → too many classes)"
      ],
      "metadata": {
        "id": "f_KKgRSc1lZQ"
      }
    },
    {
      "cell_type": "code",
      "source": [
        "#create instance of LabelPowerset, using SVC as base model\n",
        "label = LabelPowerset(classifier = SVC())\n",
        "#train\n",
        "label.fit(X_train, y_train)\n",
        "#predict\n",
        "pred5 = label.predict(X_test)\n",
        "#evaluate\n",
        "print(f\"Hamming Loss: {hamming_loss(y_test, pred5):.4f}\")"
      ],
      "metadata": {
        "colab": {
          "base_uri": "https://localhost:8080/"
        },
        "id": "eGvExW4lBVS0",
        "outputId": "b3b4d3b0-639f-42b9-8c9b-bed39d291699"
      },
      "execution_count": 42,
      "outputs": [
        {
          "output_type": "stream",
          "name": "stdout",
          "text": [
            "Hamming Loss: 0.2210\n"
          ]
        }
      ]
    },
    {
      "cell_type": "markdown",
      "source": [
        "## **2.4 - Comparing all strategies**"
      ],
      "metadata": {
        "id": "C_1Zvpth4YJo"
      }
    },
    {
      "cell_type": "code",
      "source": [
        "#Display all Hamming Loss results\n",
        "\n",
        "data = {\n",
        "    \"MLARM\": hamming_loss(y_test,pred1),\n",
        "    \"Binary Relevance\": hamming_loss(y_test,pred2),\n",
        "    \"Classifier Chain\": hamming_loss(y_test,pred3),\n",
        "    \"Label Powerset\": hamming_loss(y_test,pred4),\n",
        "    }\n",
        "\n",
        "# Convert dictionary to DataFrame\n",
        "df = pd.DataFrame(data, index=[\"All Hamming Loss\"])\n",
        "\n",
        "# Display DataFrame\n",
        "#print(df)\n",
        "\n",
        "from IPython.display import display\n",
        "display(df)"
      ],
      "metadata": {
        "colab": {
          "base_uri": "https://localhost:8080/",
          "height": 89
        },
        "id": "ms8JnEps8aEw",
        "outputId": "965ee07f-01db-439f-8779-6b1567da339f"
      },
      "execution_count": 60,
      "outputs": [
        {
          "output_type": "display_data",
          "data": {
            "text/plain": [
              "                  MLARM  Binary Relevance  Classifier Chain  Label Powerset\n",
              "All Hamming Loss   0.25               0.2              0.23            0.19"
            ],
            "text/html": [
              "\n",
              "  <div id=\"df-0687b04a-f374-46f3-9a84-17bc361444ae\" class=\"colab-df-container\">\n",
              "    <div>\n",
              "<style scoped>\n",
              "    .dataframe tbody tr th:only-of-type {\n",
              "        vertical-align: middle;\n",
              "    }\n",
              "\n",
              "    .dataframe tbody tr th {\n",
              "        vertical-align: top;\n",
              "    }\n",
              "\n",
              "    .dataframe thead th {\n",
              "        text-align: right;\n",
              "    }\n",
              "</style>\n",
              "<table border=\"1\" class=\"dataframe\">\n",
              "  <thead>\n",
              "    <tr style=\"text-align: right;\">\n",
              "      <th></th>\n",
              "      <th>MLARM</th>\n",
              "      <th>Binary Relevance</th>\n",
              "      <th>Classifier Chain</th>\n",
              "      <th>Label Powerset</th>\n",
              "    </tr>\n",
              "  </thead>\n",
              "  <tbody>\n",
              "    <tr>\n",
              "      <th>All Hamming Loss</th>\n",
              "      <td>0.25</td>\n",
              "      <td>0.2</td>\n",
              "      <td>0.23</td>\n",
              "      <td>0.19</td>\n",
              "    </tr>\n",
              "  </tbody>\n",
              "</table>\n",
              "</div>\n",
              "    <div class=\"colab-df-buttons\">\n",
              "\n",
              "  <div class=\"colab-df-container\">\n",
              "    <button class=\"colab-df-convert\" onclick=\"convertToInteractive('df-0687b04a-f374-46f3-9a84-17bc361444ae')\"\n",
              "            title=\"Convert this dataframe to an interactive table.\"\n",
              "            style=\"display:none;\">\n",
              "\n",
              "  <svg xmlns=\"http://www.w3.org/2000/svg\" height=\"24px\" viewBox=\"0 -960 960 960\">\n",
              "    <path d=\"M120-120v-720h720v720H120Zm60-500h600v-160H180v160Zm220 220h160v-160H400v160Zm0 220h160v-160H400v160ZM180-400h160v-160H180v160Zm440 0h160v-160H620v160ZM180-180h160v-160H180v160Zm440 0h160v-160H620v160Z\"/>\n",
              "  </svg>\n",
              "    </button>\n",
              "\n",
              "  <style>\n",
              "    .colab-df-container {\n",
              "      display:flex;\n",
              "      gap: 12px;\n",
              "    }\n",
              "\n",
              "    .colab-df-convert {\n",
              "      background-color: #E8F0FE;\n",
              "      border: none;\n",
              "      border-radius: 50%;\n",
              "      cursor: pointer;\n",
              "      display: none;\n",
              "      fill: #1967D2;\n",
              "      height: 32px;\n",
              "      padding: 0 0 0 0;\n",
              "      width: 32px;\n",
              "    }\n",
              "\n",
              "    .colab-df-convert:hover {\n",
              "      background-color: #E2EBFA;\n",
              "      box-shadow: 0px 1px 2px rgba(60, 64, 67, 0.3), 0px 1px 3px 1px rgba(60, 64, 67, 0.15);\n",
              "      fill: #174EA6;\n",
              "    }\n",
              "\n",
              "    .colab-df-buttons div {\n",
              "      margin-bottom: 4px;\n",
              "    }\n",
              "\n",
              "    [theme=dark] .colab-df-convert {\n",
              "      background-color: #3B4455;\n",
              "      fill: #D2E3FC;\n",
              "    }\n",
              "\n",
              "    [theme=dark] .colab-df-convert:hover {\n",
              "      background-color: #434B5C;\n",
              "      box-shadow: 0px 1px 3px 1px rgba(0, 0, 0, 0.15);\n",
              "      filter: drop-shadow(0px 1px 2px rgba(0, 0, 0, 0.3));\n",
              "      fill: #FFFFFF;\n",
              "    }\n",
              "  </style>\n",
              "\n",
              "    <script>\n",
              "      const buttonEl =\n",
              "        document.querySelector('#df-0687b04a-f374-46f3-9a84-17bc361444ae button.colab-df-convert');\n",
              "      buttonEl.style.display =\n",
              "        google.colab.kernel.accessAllowed ? 'block' : 'none';\n",
              "\n",
              "      async function convertToInteractive(key) {\n",
              "        const element = document.querySelector('#df-0687b04a-f374-46f3-9a84-17bc361444ae');\n",
              "        const dataTable =\n",
              "          await google.colab.kernel.invokeFunction('convertToInteractive',\n",
              "                                                    [key], {});\n",
              "        if (!dataTable) return;\n",
              "\n",
              "        const docLinkHtml = 'Like what you see? Visit the ' +\n",
              "          '<a target=\"_blank\" href=https://colab.research.google.com/notebooks/data_table.ipynb>data table notebook</a>'\n",
              "          + ' to learn more about interactive tables.';\n",
              "        element.innerHTML = '';\n",
              "        dataTable['output_type'] = 'display_data';\n",
              "        await google.colab.output.renderOutput(dataTable, element);\n",
              "        const docLink = document.createElement('div');\n",
              "        docLink.innerHTML = docLinkHtml;\n",
              "        element.appendChild(docLink);\n",
              "      }\n",
              "    </script>\n",
              "  </div>\n",
              "\n",
              "\n",
              "  <div id=\"id_a0d4c763-80ec-4b19-b52f-c39a8052af18\">\n",
              "    <style>\n",
              "      .colab-df-generate {\n",
              "        background-color: #E8F0FE;\n",
              "        border: none;\n",
              "        border-radius: 50%;\n",
              "        cursor: pointer;\n",
              "        display: none;\n",
              "        fill: #1967D2;\n",
              "        height: 32px;\n",
              "        padding: 0 0 0 0;\n",
              "        width: 32px;\n",
              "      }\n",
              "\n",
              "      .colab-df-generate:hover {\n",
              "        background-color: #E2EBFA;\n",
              "        box-shadow: 0px 1px 2px rgba(60, 64, 67, 0.3), 0px 1px 3px 1px rgba(60, 64, 67, 0.15);\n",
              "        fill: #174EA6;\n",
              "      }\n",
              "\n",
              "      [theme=dark] .colab-df-generate {\n",
              "        background-color: #3B4455;\n",
              "        fill: #D2E3FC;\n",
              "      }\n",
              "\n",
              "      [theme=dark] .colab-df-generate:hover {\n",
              "        background-color: #434B5C;\n",
              "        box-shadow: 0px 1px 3px 1px rgba(0, 0, 0, 0.15);\n",
              "        filter: drop-shadow(0px 1px 2px rgba(0, 0, 0, 0.3));\n",
              "        fill: #FFFFFF;\n",
              "      }\n",
              "    </style>\n",
              "    <button class=\"colab-df-generate\" onclick=\"generateWithVariable('df')\"\n",
              "            title=\"Generate code using this dataframe.\"\n",
              "            style=\"display:none;\">\n",
              "\n",
              "  <svg xmlns=\"http://www.w3.org/2000/svg\" height=\"24px\"viewBox=\"0 0 24 24\"\n",
              "       width=\"24px\">\n",
              "    <path d=\"M7,19H8.4L18.45,9,17,7.55,7,17.6ZM5,21V16.75L18.45,3.32a2,2,0,0,1,2.83,0l1.4,1.43a1.91,1.91,0,0,1,.58,1.4,1.91,1.91,0,0,1-.58,1.4L9.25,21ZM18.45,9,17,7.55Zm-12,3A5.31,5.31,0,0,0,4.9,8.1,5.31,5.31,0,0,0,1,6.5,5.31,5.31,0,0,0,4.9,4.9,5.31,5.31,0,0,0,6.5,1,5.31,5.31,0,0,0,8.1,4.9,5.31,5.31,0,0,0,12,6.5,5.46,5.46,0,0,0,6.5,12Z\"/>\n",
              "  </svg>\n",
              "    </button>\n",
              "    <script>\n",
              "      (() => {\n",
              "      const buttonEl =\n",
              "        document.querySelector('#id_a0d4c763-80ec-4b19-b52f-c39a8052af18 button.colab-df-generate');\n",
              "      buttonEl.style.display =\n",
              "        google.colab.kernel.accessAllowed ? 'block' : 'none';\n",
              "\n",
              "      buttonEl.onclick = () => {\n",
              "        google.colab.notebook.generateWithVariable('df');\n",
              "      }\n",
              "      })();\n",
              "    </script>\n",
              "  </div>\n",
              "\n",
              "    </div>\n",
              "  </div>\n"
            ],
            "application/vnd.google.colaboratory.intrinsic+json": {
              "type": "dataframe",
              "variable_name": "df",
              "summary": "{\n  \"name\": \"df\",\n  \"rows\": 1,\n  \"fields\": [\n    {\n      \"column\": \"MLARM\",\n      \"properties\": {\n        \"dtype\": \"number\",\n        \"std\": null,\n        \"min\": 0.24906367041198502,\n        \"max\": 0.24906367041198502,\n        \"num_unique_values\": 1,\n        \"samples\": [\n          0.24906367041198502\n        ],\n        \"semantic_type\": \"\",\n        \"description\": \"\"\n      }\n    },\n    {\n      \"column\": \"Binary Relevance\",\n      \"properties\": {\n        \"dtype\": \"number\",\n        \"std\": null,\n        \"min\": 0.199438202247191,\n        \"max\": 0.199438202247191,\n        \"num_unique_values\": 1,\n        \"samples\": [\n          0.199438202247191\n        ],\n        \"semantic_type\": \"\",\n        \"description\": \"\"\n      }\n    },\n    {\n      \"column\": \"Classifier Chain\",\n      \"properties\": {\n        \"dtype\": \"number\",\n        \"std\": null,\n        \"min\": 0.2340823970037453,\n        \"max\": 0.2340823970037453,\n        \"num_unique_values\": 1,\n        \"samples\": [\n          0.2340823970037453\n        ],\n        \"semantic_type\": \"\",\n        \"description\": \"\"\n      }\n    },\n    {\n      \"column\": \"Label Powerset\",\n      \"properties\": {\n        \"dtype\": \"number\",\n        \"std\": null,\n        \"min\": 0.19101123595505617,\n        \"max\": 0.19101123595505617,\n        \"num_unique_values\": 1,\n        \"samples\": [\n          0.19101123595505617\n        ],\n        \"semantic_type\": \"\",\n        \"description\": \"\"\n      }\n    }\n  ]\n}"
            }
          },
          "metadata": {}
        }
      ]
    },
    {
      "cell_type": "markdown",
      "source": [
        "## 2.5 - Final Remarks\n",
        "\n",
        "* Use Classifier Chain if labels are dependent but you want a simple approach.\n",
        "* Use Label Powerset if you strongly believe in label dependencies and have fewer unique label combinations.\n",
        "* Use Binary Relevance for fast training when labels are mostly independent."
      ],
      "metadata": {
        "id": "daKcvE8M4rw5"
      }
    },
    {
      "cell_type": "markdown",
      "source": [
        "Explore the books:\n",
        "*   *Machine Learning*, Tom M. Mitchel\n",
        "*   *Mastering Machine Learning with Python in Six Steps*, M\n",
        "Manohar Swamynathan"
      ],
      "metadata": {
        "id": "iJinjQFt4_-y"
      }
    },
    {
      "cell_type": "markdown",
      "source": [
        "## 2.6 - Exercise"
      ],
      "metadata": {
        "id": "SkZ-14d55v8y"
      }
    },
    {
      "cell_type": "markdown",
      "source": [
        "1. Implement a \"pipeline\" to process all the three alternatives, Binary Relevance (BR), Classifier Chain (CC) and Label Powerset, using SVC as the base model.\n",
        "2. Computes Hamming Loss & Accuracy for comparison\n",
        "3. Displays results in a pandas DataFrame (formatted as a table)\n",
        "4. Try the same, but using Randon Forest as the base model\n"
      ],
      "metadata": {
        "id": "keZ0Nho_533U"
      }
    },
    {
      "cell_type": "code",
      "source": [
        "#Solution here\n",
        "#use the same previous splits: X_train, X_test, y_train, y_test\n"
      ],
      "metadata": {
        "id": "S6Q9zSLy6Ob9"
      },
      "execution_count": null,
      "outputs": []
    },
    {
      "cell_type": "code",
      "source": [
        "#End!"
      ],
      "metadata": {
        "id": "QjQdyenSYfpv"
      },
      "execution_count": null,
      "outputs": []
    }
  ]
}
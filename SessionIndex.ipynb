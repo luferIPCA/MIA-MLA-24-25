{
  "nbformat": 4,
  "nbformat_minor": 0,
  "metadata": {
    "colab": {
      "provenance": [],
      "mount_file_id": "11hZnlC90sLQvLBWL1SinNxyqV1WlftOS",
      "authorship_tag": "ABX9TyMqS3uRG1BbCUicSOEajSjX",
      "include_colab_link": true
    },
    "kernelspec": {
      "name": "python3",
      "display_name": "Python 3"
    },
    "language_info": {
      "name": "python"
    }
  },
  "cells": [
    {
      "cell_type": "markdown",
      "metadata": {
        "id": "view-in-github",
        "colab_type": "text"
      },
      "source": [
        "<a href=\"https://colab.research.google.com/github/luferIPCA/MIA-MLA-24-25/blob/main/SessionIndex.ipynb\" target=\"_parent\"><img src=\"https://colab.research.google.com/assets/colab-badge.svg\" alt=\"Open In Colab\"/></a>"
      ]
    },
    {
      "cell_type": "markdown",
      "source": [
        "# Masters' in Applied Artificial Intelligence\n",
        "## Machine Learning Algorithms Course (MLA)\n",
        "\n",
        "Notebooks for MLA course\n",
        "\n",
        "by [*lufer*](mailto:lufer@ipca.pt)\n",
        "\n",
        "(ver 2.0)\n",
        "\n",
        "---"
      ],
      "metadata": {
        "id": "FaVdgiUHOJJX"
      }
    },
    {
      "cell_type": "markdown",
      "source": [
        "# Sessions\n",
        "\n",
        "## Session 1\n",
        ">Notebokk: [1_DataSets_Essential.ipynb](https://github.com/luferIPCA/MIA-MLA-24-25/blob/main/1_DataSets_Essential.ipynb)\n",
        "\n",
        "\n",
        ">Contents:\n",
        ">```\n",
        "1. Environment preparation\n",
        "2. Python essencial\n",
        "3. Working with Datasets\n",
        ">```\n",
        "\n",
        "## Session 2_I\n",
        ">Notebokk: [2_Data_Manipulation_I.ipynb](https://github.com/luferIPCA/MIA-MLA-24-25/blob/main/2_Data_Manipulation_I.ipynb)\n",
        "\n",
        ">Contents:\n",
        ">```\n",
        "1. Features Engineering\n",
        "2. Cleaning Data\n",
        "3. Outliers\n",
        ">```\n",
        "\n",
        "## Session 2_II\n",
        ">Notebokk: *2_Data_Manipulation_II.ipynb*\n",
        "\n",
        ">Contents:\n",
        ">```\n",
        "1. Data Binning\n",
        "2. Categorical to Numerical\n",
        "3. Dataset Manipulation\n",
        ">```\n",
        "\n",
        "## Session 3\n",
        ">Notebokk: *3_Data Visualization.ipynb*\n",
        "\n",
        ">Contents:\n",
        ">```\n",
        "1. Data Visualization (exploration)\n",
        ">```\n",
        "\n",
        "## Session 4\n",
        ">Notebokk: *4_Features Scaling.ipynb*\n",
        "\n",
        ">Contents:\n",
        ">```\n",
        "1. Features Scaling\n",
        ">```\n"
      ],
      "metadata": {
        "id": "6rBgqQMsOTKk"
      }
    },
    {
      "cell_type": "code",
      "execution_count": null,
      "metadata": {
        "id": "eqC9nwoON9kp"
      },
      "outputs": [],
      "source": []
    }
  ]
}
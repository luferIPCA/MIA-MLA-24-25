{
  "cells": [
    {
      "cell_type": "markdown",
      "metadata": {
        "id": "view-in-github",
        "colab_type": "text"
      },
      "source": [
        "<a href=\"https://colab.research.google.com/github/luferIPCA/MIA-MLA-24-25/blob/main/1_DataSets_Essential.ipynb\" target=\"_parent\"><img src=\"https://colab.research.google.com/assets/colab-badge.svg\" alt=\"Open In Colab\"/></a>"
      ]
    },
    {
      "cell_type": "markdown",
      "metadata": {
        "id": "c1kf9qddTM4D"
      },
      "source": [
        "# Masters' in Applied Artificial Intelligence\n",
        "## Machine Learning Algorithms Course\n",
        "\n",
        "Notebooks for MLA course\n",
        "\n",
        "by [*lufer*](mailto:lufer@ipca.pt)\n",
        "\n",
        "(ver 2.0)\n",
        "\n",
        "---"
      ]
    },
    {
      "cell_type": "markdown",
      "metadata": {
        "id": "3yc6mD0jVeWN"
      },
      "source": [
        "# Part I - Datasets for ML Modelling\n",
        "\n",
        "\n",
        "\n",
        "*   This part explores the main considerations about datasets, namely: i) the way to get it; ii) main statistics involved; iii) essencial manipulations actions.\n",
        "*   Main python topics and concepts are also explored.\n",
        "\n",
        "\n",
        "**Contents**:\n",
        "\n",
        "0. **Environment preparation**\n",
        "1.   **Python essencial**\n",
        "2.   **Understanding Datasets**\n",
        "6.   **References**\n",
        "\n",
        "\n"
      ]
    },
    {
      "cell_type": "markdown",
      "metadata": {
        "id": "GP-NymupVL02"
      },
      "source": [
        "## 0 - Environment preparation\n"
      ]
    },
    {
      "cell_type": "markdown",
      "source": [
        "Verify if python is installed; check the drive for notebooks files;"
      ],
      "metadata": {
        "id": "7ZhOrqiQMYcg"
      }
    },
    {
      "cell_type": "code",
      "source": [
        "#install phyton\n",
        "#check if python is installed\n",
        "!python --version # Python >= 3.9.18?"
      ],
      "metadata": {
        "id": "_qIbdSWuL54F"
      },
      "execution_count": null,
      "outputs": []
    },
    {
      "cell_type": "markdown",
      "source": [
        "### Import necessary Libraries"
      ],
      "metadata": {
        "id": "-3Rm857IVoPe"
      }
    },
    {
      "cell_type": "code",
      "execution_count": null,
      "metadata": {
        "id": "vA1MzNI4TU_q"
      },
      "outputs": [],
      "source": [
        "import pandas as pd\n",
        "import numpy as np"
      ]
    },
    {
      "cell_type": "markdown",
      "source": [
        "### Mounting Google Drive"
      ],
      "metadata": {
        "id": "eLtQimsVjd_Z"
      }
    },
    {
      "cell_type": "code",
      "source": [
        "#mount my google onedrive\n",
        "#from google.colab import drive\n",
        "#drive.mount('/content/drive')"
      ],
      "metadata": {
        "id": "R4Y2ONMxL_RP"
      },
      "execution_count": null,
      "outputs": []
    },
    {
      "cell_type": "code",
      "source": [
        "# or\n",
        "#see https://towardsdatascience.com/different-ways-to-connect-google-drive-to-a-google-colab-notebook-pt-1-de03433d2f7a\n",
        "#see https://adriandolinay.medium.com/an-introduction-to-google-colab-2023-6c26792827b3\n",
        "\n",
        "from google.colab import drive\n",
        "\n",
        "# it will ask for your google drive credentiaals\n",
        "drive.mount('/content/gDrive/', force_remount=True)"
      ],
      "metadata": {
        "id": "BpszC8Sgjg8T"
      },
      "execution_count": null,
      "outputs": []
    },
    {
      "cell_type": "markdown",
      "source": [
        "### Unmounting Google Drive"
      ],
      "metadata": {
        "id": "fDSn-pDWn0Ee"
      }
    },
    {
      "cell_type": "code",
      "source": [
        "from google.colab import drive\n",
        "drive.mount('/content/drive')"
      ],
      "metadata": {
        "id": "JvmpPwN-fKgH"
      },
      "execution_count": null,
      "outputs": []
    },
    {
      "cell_type": "code",
      "source": [
        "#see https://www.geeksforgeeks.org/unmount-drive-in-google-colab-and-remount-to-another-drive/\n",
        "#!ls \"/content/MyDrive/\"\n",
        "#from google.colab import drive\n",
        "#drive.flush_and_unmount()"
      ],
      "metadata": {
        "id": "HXxT6hsEmZZ5"
      },
      "execution_count": null,
      "outputs": []
    },
    {
      "cell_type": "markdown",
      "metadata": {
        "id": "2XTExmneWF4n"
      },
      "source": [
        "## 1 - Python Essential\n"
      ]
    },
    {
      "cell_type": "markdown",
      "source": [
        "### Python Functions Definition"
      ],
      "metadata": {
        "id": "uVQ9zTD8jXCx"
      }
    },
    {
      "cell_type": "code",
      "source": [
        "%pwd\n"
      ],
      "metadata": {
        "id": "konHrAjX1W9b"
      },
      "execution_count": null,
      "outputs": []
    },
    {
      "cell_type": "code",
      "execution_count": null,
      "metadata": {
        "id": "ky6BMYO1UIcz"
      },
      "outputs": [],
      "source": [
        "#phyton functions definition\n",
        "def show(p): print (p)\n",
        "\n",
        "#using defined fucntions\n",
        "show(\"Lets start working with DataSets\")"
      ]
    },
    {
      "cell_type": "markdown",
      "source": [
        "Create an external libary of functions"
      ],
      "metadata": {
        "id": "-7Coh0_EyCAa"
      }
    },
    {
      "cell_type": "code",
      "execution_count": null,
      "metadata": {
        "id": "utMAEkTzWXmn"
      },
      "outputs": [],
      "source": [
        "#Importing external python scripts (models)\n",
        "%cd \"/content/gdrive/MyDrive/Colab Notebooks/MIA - ML - 2024-2025/PythonFunctions/\"\n",
        "%pwd\n",
        "#import\n",
        "import MyFunctions as my  #Myfunction.py library\n",
        "print(my.addNumbers(2,3))\n",
        "print(my.getCurrentTime())\n",
        "\n"
      ]
    },
    {
      "cell_type": "code",
      "source": [
        "#using module \"os\"\n",
        "import os\n",
        "print (os.getcwd())\n",
        "os.listdir()\n",
        "#os.rename()\n",
        "#explore more functions\n",
        "#see https://www.w3schools.com/python/module_os.asp"
      ],
      "metadata": {
        "id": "y-dvcakkPKmU"
      },
      "execution_count": null,
      "outputs": []
    },
    {
      "cell_type": "code",
      "source": [
        "#using module shutil for copying, renaming, etc.\n",
        "import shutil\n",
        "shutil.copy(\"MyFunctions.py\", \"OtherCopied.py\")\n",
        "shutil.move(\"OtherCopied.py\",\"OtherCopiedII.py\")"
      ],
      "metadata": {
        "id": "ebacSyJgRD0x"
      },
      "execution_count": null,
      "outputs": []
    },
    {
      "cell_type": "code",
      "source": [
        "os.listdir()"
      ],
      "metadata": {
        "id": "yoB63GXmRDlu"
      },
      "execution_count": null,
      "outputs": []
    },
    {
      "cell_type": "code",
      "source": [
        "#Other example\n",
        "import time #perf_counter(), time(), etc...see https://builtin.com/articles/timing-functions-python\n",
        "print(\"Sleeping\")\n",
        "time.sleep(10) # sleep for a while; interrupt me!\n",
        "#equivalent to\n",
        "#for i in range(1,10):\n",
        "#  time.sleep(1)\n",
        "#  print(i)\n",
        "print(\"Done Sleeping\")\n",
        "\n"
      ],
      "metadata": {
        "id": "wMpHZ-bXyLvD"
      },
      "execution_count": null,
      "outputs": []
    },
    {
      "cell_type": "code",
      "source": [
        "#using time to know the time elapsed on the execution...\n",
        "ini=time.perf_counter()\n",
        "my.getCurrentTime()\n",
        "fim=time.perf_counter()\n",
        "a = f'{(fim-ini):.3}'\n",
        "print(\"Elapsed time: \",a,\"s\")"
      ],
      "metadata": {
        "id": "H-fCcsiZyi9g"
      },
      "execution_count": null,
      "outputs": []
    },
    {
      "cell_type": "markdown",
      "source": [
        "###More Python"
      ],
      "metadata": {
        "id": "JsdiTAV-ZNLM"
      }
    },
    {
      "cell_type": "code",
      "source": [
        "#Lists\n",
        "l = [1,2,3,2,5,6]\n",
        "#type(l)\n",
        "len(l)\n",
        "l[0]\n",
        "l[-2]\n",
        "l[-6]\n",
        "#l[start_slice;value: end_slide:value]\n",
        "l[2:4]\n",
        "l[:]\n",
        "l[2:]\n",
        "l[:4]\n"
      ],
      "metadata": {
        "id": "VHzvlEAkYFPA"
      },
      "execution_count": null,
      "outputs": []
    },
    {
      "cell_type": "code",
      "source": [
        "#Series: like an array\n",
        "s = pd.Series([13,23,4,123,-4,134])\n",
        "#type(s)\n",
        "s"
      ],
      "metadata": {
        "id": "PL7-AwKHZTnz"
      },
      "execution_count": null,
      "outputs": []
    },
    {
      "cell_type": "code",
      "source": [
        "#what happens?\n",
        "#s = pd.Series([13,23,4,123],index=['a','b','c','d'])\n",
        "#s\n",
        "s[0]\n",
        "s[1:3]\n",
        "s[:]\n",
        "s[:-1]\n",
        "s[1:-1]"
      ],
      "metadata": {
        "id": "rFe4yo1GaHFu"
      },
      "execution_count": null,
      "outputs": []
    },
    {
      "cell_type": "code",
      "source": [
        "#HashTable or Dictionary\n",
        "# { label: serie,...,label:serie}\n",
        "\n",
        "data = {\n",
        "    \"Colors\":[\"Red\",\"White\",\"Orange\",\"Black\"],\n",
        "    \"Paintings\":[\"Monalisa\",\"The Kiss\", \"The Last Supper\",\"O GLorioso\"]\n",
        "     }\n",
        "type(data)\n",
        "data[\"Colors\"]\n",
        "data[\"Paintings\"]"
      ],
      "metadata": {
        "id": "heUAdknyaR81"
      },
      "execution_count": null,
      "outputs": []
    },
    {
      "cell_type": "code",
      "source": [
        "#Dataframes: two-dimensional array of series\n",
        "\n",
        "df = pd.DataFrame(data)\n",
        "type(df)\n",
        "df.head()"
      ],
      "metadata": {
        "id": "sbJgfwjacjyt"
      },
      "execution_count": null,
      "outputs": []
    },
    {
      "cell_type": "markdown",
      "source": [
        "### Python Classes and Objects"
      ],
      "metadata": {
        "id": "6tXQ8aNTtTSk"
      }
    },
    {
      "cell_type": "code",
      "source": [
        "#Class definition\n",
        "#lufer\n",
        "class Person:\n",
        "  name=\"\"\n",
        "  age=1\n",
        "  #-----\n",
        "  # assign values to object properties, or other operations that are necessary\n",
        "  # to do when the object is being created\n",
        "  def __init__(self, name, age):\n",
        "    #print(\"Inside __init__\")\n",
        "    self.name = name\n",
        "    self.age = age\n",
        "  #-----\n",
        "  #  controls what should be returned when the class object is represented as a string\n",
        "  def __str__(self):\n",
        "    return f\"Name: {self.name} (Age: {self.age})\"\n",
        "  #-----\n",
        "  # other methods\n",
        "  def myName(self):\n",
        "    print(\"Hello my name is  \" + self.name)\n",
        "\n",
        "#Objects\n",
        "p1 = Person(\"Ana Gustavo\",\"12\")   #uses __init__\n",
        "\n",
        "print(p1)                         #uses __str__\n",
        "print(p1.age)\n",
        "print (f\"Age: ({p1.age}) - Name: ({p1.name}) \" )\n",
        "p1.myName();\n",
        "p1.name"
      ],
      "metadata": {
        "id": "ZTLrVOCMtX3F"
      },
      "execution_count": null,
      "outputs": []
    },
    {
      "cell_type": "markdown",
      "metadata": {
        "id": "PUud-RAmcLae"
      },
      "source": [
        "### Código HTML"
      ]
    },
    {
      "cell_type": "code",
      "execution_count": null,
      "metadata": {
        "id": "nHMXRTRfbqiA"
      },
      "outputs": [],
      "source": [
        "%%html\n",
        "<marquee style='width: 30%; color: red;'><b>O Benfica é o maior!</b></marquee>"
      ]
    },
    {
      "cell_type": "markdown",
      "metadata": {
        "id": "nwyaSa1Rczfz"
      },
      "source": [
        "### HTML/SVG"
      ]
    },
    {
      "cell_type": "code",
      "execution_count": null,
      "metadata": {
        "id": "F0KOgnw2cPXl"
      },
      "outputs": [],
      "source": [
        "%%html\n",
        "<svg xmlns=\"http://www.w3.org/2000/svg\" viewBox=\"0 0 450 400\" width=\"200\" height=\"200\">\n",
        "  <rect x=\"80\" y=\"60\" width=\"250\" height=\"250\" rx=\"20\" style=\"fill:red; stroke:black; fill-opacity:0.7\" />\n",
        "  <rect x=\"180\" y=\"110\" width=\"250\" height=\"250\" rx=\"40\" style=\"fill:blue; stroke:black; fill-opacity:0.5;\" />\n",
        "</svg>"
      ]
    },
    {
      "cell_type": "markdown",
      "source": [
        "## 2 - Understanding Datasets bases"
      ],
      "metadata": {
        "id": "PcMpLXdGyr5k"
      }
    },
    {
      "cell_type": "markdown",
      "source": [
        "Datasets are sets o data to be used on models training. A dataset can have Continous values (quantities); Categorical values (fixed list values) or Text values."
      ],
      "metadata": {
        "id": "Gm60g-EaM0ii"
      }
    },
    {
      "cell_type": "markdown",
      "source": [
        "### Read a Dataset from a CSV file"
      ],
      "metadata": {
        "id": "fJUWdoh0w37U"
      }
    },
    {
      "cell_type": "code",
      "source": [
        "filePath=\"/content/gDrive/MyDrive/Colab Notebooks/MIA - ML - 2024-2025/\""
      ],
      "metadata": {
        "id": "UPaPd_IF3FeW"
      },
      "execution_count": null,
      "outputs": []
    },
    {
      "cell_type": "code",
      "source": [
        "#option 1\n",
        "with open(filePath+'Datasets/test.csv', 'r') as f:\n",
        "    print(f.read())"
      ],
      "metadata": {
        "id": "V3q6zHwP1mq9",
        "collapsed": true
      },
      "execution_count": null,
      "outputs": []
    },
    {
      "cell_type": "code",
      "source": [
        "#option 2\n",
        "dataset = pd.read_csv(filePath+'/Datasets/test.csv')\n",
        "#dataset is a dataframe"
      ],
      "metadata": {
        "id": "dznrs1Aa3aC7"
      },
      "execution_count": null,
      "outputs": []
    },
    {
      "cell_type": "code",
      "source": [
        "dataset.head()"
      ],
      "metadata": {
        "collapsed": true,
        "id": "IvXWUYr8e8op"
      },
      "execution_count": null,
      "outputs": []
    },
    {
      "cell_type": "code",
      "source": [
        "#type(dataset)\n",
        "dataset.dtypes"
      ],
      "metadata": {
        "id": "CJZgw7Sf83wu"
      },
      "execution_count": null,
      "outputs": []
    },
    {
      "cell_type": "markdown",
      "source": [
        "After read, the dataset is a Dataframe python type.\n",
        "\n",
        "Pandas DataFrame is like Excel-like Data."
      ],
      "metadata": {
        "id": "HCj2lpdddh-n"
      }
    },
    {
      "cell_type": "code",
      "source": [
        "#option 3\n",
        "# the \"r\" means ignoring special chars if the file name\n",
        "f = open(filePath+r\"/Datasets/test.csv\", \"r\")\n",
        "#f is a stream handler"
      ],
      "metadata": {
        "id": "qbJRgsiQbYym"
      },
      "execution_count": null,
      "outputs": []
    },
    {
      "cell_type": "code",
      "source": [
        "type(f)"
      ],
      "metadata": {
        "id": "R_vlDOsxkS2R"
      },
      "execution_count": null,
      "outputs": []
    },
    {
      "cell_type": "markdown",
      "source": [
        "###Generate Datasets\n",
        "\n",
        "* Python offers a simple and powerful way to generate data...*Faker* is one of the libraries;\n",
        "\n",
        "* Read more about \"Sintetic Datasets\"\n"
      ],
      "metadata": {
        "id": "pNsdawfIh1jQ"
      }
    },
    {
      "cell_type": "code",
      "source": [
        "pip install faker"
      ],
      "metadata": {
        "id": "F9cnQu-hjCBv"
      },
      "execution_count": null,
      "outputs": []
    },
    {
      "cell_type": "code",
      "source": [
        "from faker import Faker\n",
        "import datetime\n",
        "import random\n",
        "\n",
        "# Set the seed for reproducibility\n",
        "random.seed(42)\n",
        "\n",
        "# Generate random sales data\n",
        "fake = Faker()\n",
        "sales_data = []\n",
        "\n",
        "for _ in range(1000):\n",
        "    city = fake.city()\n",
        "    state = fake.state()\n",
        "    sale = round(random.uniform(300, 5000), 2)\n",
        "    sale_date = fake.date_between(start_date='-1y', end_date='today')\n",
        "    sales_data.append([city, state, sale, sale_date])\n",
        "\n",
        "# Create a DataFrame\n",
        "df = pd.DataFrame(sales_data, columns=['City', 'State', 'Sale Amount', 'Sale Date'])\n",
        "\n",
        "# Display the first few rows of the dataset\n",
        "print(df.head())"
      ],
      "metadata": {
        "id": "2AH0U97diks7"
      },
      "execution_count": null,
      "outputs": []
    },
    {
      "cell_type": "code",
      "source": [
        "#or using a function\n",
        "\n",
        "def generateSales(num_customers):\n",
        "    customers = []\n",
        "    for _ in range(num_customers):\n",
        "        customer_id = fake.uuid4()\n",
        "        name = fake.name()\n",
        "        email = fake.email()\n",
        "        customers.append({'CustomerID': customer_id, 'CustomerName': name, 'Email': email})\n",
        "    return pd.DataFrame(customers)\n",
        "\n",
        "df1 = generateSales(100)\n",
        "df1.head()"
      ],
      "metadata": {
        "id": "rchS_3NZUrNO"
      },
      "execution_count": null,
      "outputs": []
    },
    {
      "cell_type": "markdown",
      "source": [
        "###Save a Dataset to file"
      ],
      "metadata": {
        "id": "S97kIYJtancp"
      }
    },
    {
      "cell_type": "code",
      "source": [
        "# Save the dataset to a CSV file\n",
        "df.to_csv(filePath+'/Datasets/sales_dataset.csv', index=False)"
      ],
      "metadata": {
        "id": "xd_qZGgca7hN"
      },
      "execution_count": null,
      "outputs": []
    },
    {
      "cell_type": "markdown",
      "source": [
        "### Datasets and Dataframes\n",
        "\n"
      ],
      "metadata": {
        "id": "L7z4CsvlP2L8"
      }
    },
    {
      "cell_type": "markdown",
      "source": [
        "Working with datasets in ML involves many functions, like:\n",
        "\n",
        "*len(), shape, axes, index, values, info(), head(), tail(), drop(), iloc()*"
      ],
      "metadata": {
        "id": "JGPFJFcxS35e"
      }
    },
    {
      "cell_type": "markdown",
      "source": [
        "**Number of records in the dataframe**"
      ],
      "metadata": {
        "id": "XsMYZuo8xn_9"
      }
    },
    {
      "cell_type": "code",
      "source": [
        "#number of records in the dataframe\n",
        "len(dataset)"
      ],
      "metadata": {
        "id": "gG0apGHt9dVU"
      },
      "execution_count": null,
      "outputs": []
    },
    {
      "cell_type": "markdown",
      "source": [
        "**Dataframe Structure (rows x columns)**"
      ],
      "metadata": {
        "id": "rH8QtOCnx10f"
      }
    },
    {
      "cell_type": "code",
      "source": [
        "#Structure (rows x columns) of the dataframe\n",
        "dataset.shape"
      ],
      "metadata": {
        "id": "53wINXVv9jgw"
      },
      "execution_count": null,
      "outputs": []
    },
    {
      "cell_type": "markdown",
      "source": [
        "**Dataframe Axis (0 and 1)**"
      ],
      "metadata": {
        "id": "G2derKkF2U2h"
      }
    },
    {
      "cell_type": "code",
      "source": [
        "dataset.axes\n",
        "#RangeIndex = lines\n",
        "#Index = columns"
      ],
      "metadata": {
        "id": "aQGctCmq2xxs"
      },
      "execution_count": null,
      "outputs": []
    },
    {
      "cell_type": "code",
      "source": [
        "#Columns\n",
        "dataset.axes[1]"
      ],
      "metadata": {
        "id": "Vn7Rgrxm3FI3"
      },
      "execution_count": null,
      "outputs": []
    },
    {
      "cell_type": "code",
      "source": [
        "#what does dataset.axes[0]?"
      ],
      "metadata": {
        "id": "G9Y4-asaJVaG"
      },
      "execution_count": null,
      "outputs": []
    },
    {
      "cell_type": "code",
      "source": [
        "dataset.index"
      ],
      "metadata": {
        "id": "Nz7dMC9X2Z0L"
      },
      "execution_count": null,
      "outputs": []
    },
    {
      "cell_type": "code",
      "source": [
        "dataset.values"
      ],
      "metadata": {
        "id": "7GkpqnZt2sYP"
      },
      "execution_count": null,
      "outputs": []
    },
    {
      "cell_type": "markdown",
      "source": [
        "**First 10 records**"
      ],
      "metadata": {
        "id": "jwuFM8gMx5fL"
      }
    },
    {
      "cell_type": "code",
      "source": [
        "#first 10 records\n",
        "dataset.head()"
      ],
      "metadata": {
        "id": "kHklUlr29oCi"
      },
      "execution_count": null,
      "outputs": []
    },
    {
      "cell_type": "markdown",
      "source": [
        "**Last 10 records**"
      ],
      "metadata": {
        "id": "ezVlYBZfyStD"
      }
    },
    {
      "cell_type": "code",
      "source": [
        "#last 10 records\n",
        "dataset.tail()"
      ],
      "metadata": {
        "id": "MvmVdi-S900L"
      },
      "execution_count": null,
      "outputs": []
    },
    {
      "cell_type": "markdown",
      "source": [
        "**Details about each column of the dataset**\n",
        "\n",
        "Count of *Data type* and *Non-Null* values *Texto em itálico*"
      ],
      "metadata": {
        "id": "gtMkvG_M8iwa"
      }
    },
    {
      "cell_type": "code",
      "source": [
        "#Details about each column\n",
        "dataset.info()"
      ],
      "metadata": {
        "id": "bWCQW9Tl-CRX"
      },
      "execution_count": null,
      "outputs": []
    },
    {
      "cell_type": "markdown",
      "source": [
        "Indexing just the rows"
      ],
      "metadata": {
        "id": "8T7FEJVgVl1V"
      }
    },
    {
      "cell_type": "code",
      "source": [
        "#first column\n",
        "dataset.iloc[0]"
      ],
      "metadata": {
        "id": "5dbm2uh5VkOx"
      },
      "execution_count": null,
      "outputs": []
    },
    {
      "cell_type": "code",
      "source": [
        "#first line (line 0)\n",
        "dataset.iloc[[0]]"
      ],
      "metadata": {
        "id": "a5RDY9ysVwoe"
      },
      "execution_count": null,
      "outputs": []
    },
    {
      "cell_type": "code",
      "source": [
        "dataset.iloc[[0, 1]]"
      ],
      "metadata": {
        "id": "X3Nb9m8uV9Ke"
      },
      "execution_count": null,
      "outputs": []
    },
    {
      "cell_type": "markdown",
      "source": [
        "With a slice object"
      ],
      "metadata": {
        "id": "4f9EEnhBWK7n"
      }
    },
    {
      "cell_type": "code",
      "source": [
        "dataset.iloc[:3]"
      ],
      "metadata": {
        "id": "KCS2h6qVWOiY"
      },
      "execution_count": null,
      "outputs": []
    },
    {
      "cell_type": "markdown",
      "source": [
        "Indexing lines and columns (both indexes)"
      ],
      "metadata": {
        "id": "C4rAdJkLWojC"
      }
    },
    {
      "cell_type": "code",
      "source": [
        "dataset.iloc[0,1] #iloc[row,column]"
      ],
      "metadata": {
        "id": "9gMFXDMlWsOC"
      },
      "execution_count": null,
      "outputs": []
    },
    {
      "cell_type": "code",
      "source": [
        "#lines from 1 to 3 and first 3 columns\n",
        "dataset.iloc[1:3, 0:3]"
      ],
      "metadata": {
        "id": "mNsxsJNGW3zS"
      },
      "execution_count": null,
      "outputs": []
    },
    {
      "cell_type": "code",
      "source": [
        "#all\n",
        "dataset.iloc[:, :]"
      ],
      "metadata": {
        "id": "u_rwHVtfW9BM"
      },
      "execution_count": null,
      "outputs": []
    },
    {
      "cell_type": "markdown",
      "source": [
        "Droping data"
      ],
      "metadata": {
        "id": "LjcaTX8nXq3N"
      }
    },
    {
      "cell_type": "code",
      "source": [
        "dataset.drop(['blue', 'four_g'], axis=1)\n",
        "#or\n",
        "#dataset.drop(columns=['blue, 'four_g'])\n",
        "#or\n",
        "#dataset.drop(['blue', 'four_g'], axis='columns')"
      ],
      "metadata": {
        "id": "zzayQTTIXtMb"
      },
      "execution_count": null,
      "outputs": []
    },
    {
      "cell_type": "code",
      "source": [
        "pd.set_option(\"display.precision\", 2)\n"
      ],
      "metadata": {
        "id": "0CG-FgJs_GKx"
      },
      "execution_count": null,
      "outputs": []
    },
    {
      "cell_type": "markdown",
      "source": [
        "### Basic Statistics over a Dataset"
      ],
      "metadata": {
        "id": "InZySHPt_Bsz"
      }
    },
    {
      "cell_type": "markdown",
      "source": [
        "Basic statistics with 'describe()'\n",
        "\n",
        "1. For Numeric Columns (default behavior):\n",
        "\n",
        "* It provides summary statistics such as:\n",
        " * Count: The number of non-missing values.\n",
        " * Mean: The average of the values.\n",
        " * Std: The standard deviation (measure of spread).\n",
        " * Min: The smallest value.\n",
        " * 25%: The first quartile (25th percentile).\n",
        " * 50%: The median (50th percentile).\n",
        " * 75%: The third quartile (75th percentile).\n",
        " * Max: The largest value.\n",
        "2.  For Non-Numeric Columns (if specified using include='all' or include=object):\n",
        "\n",
        "* It provides:\n",
        " * Count: The number of non-missing values.\n",
        " * Unique: The number of unique values.\n",
        " * Top: The most frequent value.\n",
        " * Freq: The frequency of the top value.\n",
        "\n",
        "3. **Key Notes about 'describe()'**\n",
        "* Non-numeric data is ignored unless explicitly included using include.\n",
        "* The method helps quickly identify:\n",
        " * Missing data (count vs. total rows).\n",
        " * Outliers (e.g., large differences between min, max, and mean).\n",
        " * Skewness (if the mean and median differ significantly).\n",
        "\n",
        " * **Default Percentiles**: percentiles=None computes the 25th,  50th, and 75th percentiles by default.\n",
        "* **Default Inclusion**: exclude=None includes numeric columns only, unless explicitly overridden.\n",
        "* Explicit Parameters:\n",
        " * Use percentiles to customize which percentiles to compute.\n",
        " * Use include='all' to analyze both numeric and non-numeric columns.\n",
        " * Use exclude to omit specific data types (e.g., exclude=[float])."
      ],
      "metadata": {
        "id": "1Vgo6m9U9BGO"
      }
    },
    {
      "cell_type": "code",
      "source": [
        "#see https://pandas.pydata.org/docs/reference/api/pandas.DataFrame.describe.html\n",
        "#by default\n",
        "dataset.describe()\n",
        "#what happens with\n",
        "#dataset.describe(include='all')\n",
        "#How do you explain it?"
      ],
      "metadata": {
        "id": "uVqRQRV0-wUq"
      },
      "execution_count": null,
      "outputs": []
    },
    {
      "cell_type": "markdown",
      "source": [
        "**DataFrame.describe(percentiles=None, include=None, exclude=None)**\n",
        "* percentiles normal (25%, 59%, 75% (default)\n",
        "* include only numeric values (default)\n",
        "* exclude NaN values (default)\n"
      ],
      "metadata": {
        "id": "DDVkQppTA4gv"
      }
    },
    {
      "cell_type": "code",
      "source": [
        "#\"None\" is the default...means consider only numerical values\n",
        "dataset.describe(percentiles=None, exclude=None)"
      ],
      "metadata": {
        "id": "zyJK9HFRBYTP"
      },
      "execution_count": null,
      "outputs": []
    },
    {
      "cell_type": "markdown",
      "source": [
        "Considering the percentiles of *battery_power* column:\n",
        "\n",
        "*   (25%) - 25% of the records have the value 895 or below\n",
        "*   (50%) - 50% of the records have the value 1246.5 or below\n",
        "*   (75%) - 75% of your records have the value 1629.25 or below"
      ],
      "metadata": {
        "id": "uVoSjOI__7sv"
      }
    },
    {
      "cell_type": "code",
      "source": [
        "dataset.describe(include='all')"
      ],
      "metadata": {
        "id": "nRKPHmHx8Axk"
      },
      "execution_count": null,
      "outputs": []
    },
    {
      "cell_type": "markdown",
      "source": [
        "\n",
        "\n",
        "---\n",
        "\n",
        "\n",
        "Practice: Explore the simple Lab"
      ],
      "metadata": {
        "id": "zv6ofZdL8PNr"
      }
    },
    {
      "cell_type": "code",
      "source": [
        "import pandas as pd\n",
        "\n",
        "data = {'A': [1, 2, 3, 4, 5], 'B': [np.nan, 20, 30, 40, 50], 'C': ['a', 'b', 'c', 'd', 'c']}\n",
        "df = pd.DataFrame(data)"
      ],
      "metadata": {
        "id": "o4p8MJ9z8RY2"
      },
      "execution_count": null,
      "outputs": []
    },
    {
      "cell_type": "code",
      "source": [
        "df"
      ],
      "metadata": {
        "id": "97hrXJKj84X4"
      },
      "execution_count": null,
      "outputs": []
    },
    {
      "cell_type": "code",
      "source": [
        "df.shape"
      ],
      "metadata": {
        "id": "PkEe24EN-iyC"
      },
      "execution_count": null,
      "outputs": []
    },
    {
      "cell_type": "code",
      "source": [
        "#basic statistics for numerical only\n",
        "print(df.describe())"
      ],
      "metadata": {
        "id": "npbPmbTf88F-"
      },
      "execution_count": null,
      "outputs": []
    },
    {
      "cell_type": "code",
      "source": [
        "df.describe(include='all')"
      ],
      "metadata": {
        "id": "MvdOZBoQ8gns"
      },
      "execution_count": null,
      "outputs": []
    },
    {
      "cell_type": "markdown",
      "source": [
        "\n",
        "\n",
        "---\n",
        "\n"
      ],
      "metadata": {
        "id": "LOqFNvNl8WrV"
      }
    },
    {
      "cell_type": "code",
      "source": [
        "#What it does?\n",
        "df.describe(percentiles=None, exclude=None)\n",
        "\n",
        "#and this\n",
        "df.describe(percentiles=[0.1, 0.9])"
      ],
      "metadata": {
        "id": "zfSL2TNH9UYU"
      },
      "execution_count": null,
      "outputs": []
    },
    {
      "cell_type": "markdown",
      "source": [
        "**Statistical calculus for a particular column**"
      ],
      "metadata": {
        "id": "Y2asxOyP-n_E"
      }
    },
    {
      "cell_type": "markdown",
      "source": [
        "*Count number of non-NA/null observations.*"
      ],
      "metadata": {
        "id": "_f2dSeZ6CT9n"
      }
    },
    {
      "cell_type": "code",
      "source": [
        "dataset['battery_power'].count()"
      ],
      "metadata": {
        "id": "yd1AxvX1CQjw"
      },
      "execution_count": null,
      "outputs": []
    },
    {
      "cell_type": "markdown",
      "source": [
        "*Maximum of the battery_power values*"
      ],
      "metadata": {
        "id": "UDMRRICu_SBq"
      }
    },
    {
      "cell_type": "code",
      "source": [
        "dataset['battery_power'].max()"
      ],
      "metadata": {
        "id": "Z84N8iiLB5EQ"
      },
      "execution_count": null,
      "outputs": []
    },
    {
      "cell_type": "markdown",
      "source": [
        "*Mean of the battery_power values*"
      ],
      "metadata": {
        "id": "nRUaSo0u_OPW"
      }
    },
    {
      "cell_type": "code",
      "source": [
        "dataset['battery_power'].mean()"
      ],
      "metadata": {
        "id": "Xelbj5ozDLlH"
      },
      "execution_count": null,
      "outputs": []
    },
    {
      "cell_type": "markdown",
      "source": [
        "*Minimum value of battery_power*"
      ],
      "metadata": {
        "id": "l1eUikGo_Ks8"
      }
    },
    {
      "cell_type": "code",
      "source": [
        "dataset['battery_power'].min()"
      ],
      "metadata": {
        "id": "42sDJ5abDHmU"
      },
      "execution_count": null,
      "outputs": []
    },
    {
      "cell_type": "markdown",
      "source": [
        "*Median of battery_power column*"
      ],
      "metadata": {
        "id": "1pWpeXxP_Cft"
      }
    },
    {
      "cell_type": "code",
      "source": [
        "dataset['battery_power'].median()"
      ],
      "metadata": {
        "id": "vbP8Y275DsAL"
      },
      "execution_count": null,
      "outputs": []
    },
    {
      "cell_type": "markdown",
      "source": [
        "*Check how may occurences for each value of a particulaar column*"
      ],
      "metadata": {
        "id": "N8sNnvTOPuTd"
      }
    },
    {
      "cell_type": "code",
      "source": [
        "dataset['battery_power'].value_counts()"
      ],
      "metadata": {
        "id": "NWlYY37jBvNI"
      },
      "execution_count": null,
      "outputs": []
    },
    {
      "cell_type": "markdown",
      "source": [
        "*Select part of the columns*"
      ],
      "metadata": {
        "id": "k-7USEmyQAJn"
      }
    },
    {
      "cell_type": "code",
      "source": [
        "dataset[['battery_power','dual_sim']]"
      ],
      "metadata": {
        "id": "84djWSbQDv18"
      },
      "execution_count": null,
      "outputs": []
    },
    {
      "cell_type": "markdown",
      "source": [
        "*Details about part of the columns*"
      ],
      "metadata": {
        "id": "8qC0vpkbQSSd"
      }
    },
    {
      "cell_type": "code",
      "source": [
        "dataset[['battery_power','dual_sim']].describe(include=\"all\")"
      ],
      "metadata": {
        "id": "vDUqDhRLETTG"
      },
      "execution_count": null,
      "outputs": []
    },
    {
      "cell_type": "markdown",
      "source": [
        "*Details about a partivular column*"
      ],
      "metadata": {
        "id": "LlRUc48FQ2pd"
      }
    },
    {
      "cell_type": "code",
      "source": [
        "dataset.battery_power.describe()"
      ],
      "metadata": {
        "id": "1MRx6DFqLr23"
      },
      "execution_count": null,
      "outputs": []
    },
    {
      "cell_type": "markdown",
      "source": [
        "### Considering columns of type *objet* (text)"
      ],
      "metadata": {
        "id": "2J4bXjjF__NV"
      }
    },
    {
      "cell_type": "markdown",
      "source": [
        "By default, only numeric values are considered. To analyse objects columns (text values) use \"*dataset.describe(include=object)*\""
      ],
      "metadata": {
        "id": "7AB52dw0A2Kg"
      }
    },
    {
      "cell_type": "markdown",
      "source": [
        "*Example of Dataframe with objects:*"
      ],
      "metadata": {
        "id": "ZTzZxVK-NJzO"
      }
    },
    {
      "cell_type": "code",
      "source": [
        "df = pd.DataFrame({'gender': pd.Categorical(['Male', 'Female', 'Others']),\n",
        "                   'quantity': [12, 25, 3],\n",
        "                   'symbol': ['M', 'F', 'O']\n",
        "                   })\n",
        "df"
      ],
      "metadata": {
        "id": "CslmwoT0MVCE"
      },
      "execution_count": null,
      "outputs": []
    },
    {
      "cell_type": "markdown",
      "source": [
        "*By default omly numerical values are described*"
      ],
      "metadata": {
        "id": "ofsjkxeKrOLm"
      }
    },
    {
      "cell_type": "code",
      "source": [
        "df.describe()"
      ],
      "metadata": {
        "id": "2y3keMBdrLsV"
      },
      "execution_count": null,
      "outputs": []
    },
    {
      "cell_type": "markdown",
      "source": [
        "*Describing all columns of a DataFrame regardless of data type*"
      ],
      "metadata": {
        "id": "jyYuR9k9NDkX"
      }
    },
    {
      "cell_type": "code",
      "source": [
        "df.describe(include=\"all\")"
      ],
      "metadata": {
        "id": "7UBMA3oWMmZU"
      },
      "execution_count": null,
      "outputs": []
    },
    {
      "cell_type": "markdown",
      "source": [
        "*Including only string columns in the DataFrame description.*"
      ],
      "metadata": {
        "id": "AgLUYCErNoBd"
      }
    },
    {
      "cell_type": "code",
      "source": [
        "df.describe(include=object)\n",
        "#or\n",
        "df.describe(include=[object])"
      ],
      "metadata": {
        "id": "FyIhHfU2_OJ8"
      },
      "execution_count": null,
      "outputs": []
    },
    {
      "cell_type": "markdown",
      "source": [
        "*Excluding numeric columns from a DataFrame description.*"
      ],
      "metadata": {
        "id": "nwLEEeHXN76o"
      }
    },
    {
      "cell_type": "code",
      "source": [
        "df.describe(exclude=[np.number])"
      ],
      "metadata": {
        "id": "zA2_3ck-N7eo"
      },
      "execution_count": null,
      "outputs": []
    },
    {
      "cell_type": "markdown",
      "source": [
        "*Including only numeric columns in the DataFrame description.*"
      ],
      "metadata": {
        "id": "8mu6W6JaNcZF"
      }
    },
    {
      "cell_type": "code",
      "source": [
        "df.describe(include=[np.number])"
      ],
      "metadata": {
        "id": "ckv1Q253Nb9U"
      },
      "execution_count": null,
      "outputs": []
    },
    {
      "cell_type": "markdown",
      "source": [
        "*Only Categorical columns*"
      ],
      "metadata": {
        "id": "-tomC11rpEli"
      }
    },
    {
      "cell_type": "code",
      "source": [
        "\n",
        "df.describe(include=['category'])"
      ],
      "metadata": {
        "id": "Tvr0blBRpEEP"
      },
      "execution_count": null,
      "outputs": []
    },
    {
      "cell_type": "markdown",
      "source": [
        "*Excluding object columns from a DataFrame description.*"
      ],
      "metadata": {
        "id": "RfdNWloJsMt3"
      }
    },
    {
      "cell_type": "code",
      "source": [
        "df.describe(exclude=[object])"
      ],
      "metadata": {
        "id": "ALaGzBTvsOPF"
      },
      "execution_count": null,
      "outputs": []
    },
    {
      "cell_type": "markdown",
      "source": [
        "### Filtering Data"
      ],
      "metadata": {
        "id": "7y0iOMbPHpiO"
      }
    },
    {
      "cell_type": "markdown",
      "source": [
        "The idea it to *get filtered data* for any criterium."
      ],
      "metadata": {
        "id": "pW6fFw7Z61Ph"
      }
    },
    {
      "cell_type": "markdown",
      "source": [
        "Column value greater than..."
      ],
      "metadata": {
        "id": "slZPG3xA1OHb"
      }
    },
    {
      "cell_type": "code",
      "source": [
        "#Back to original dataset\n",
        "newdf = dataset.copy()\n",
        "newdf = dataset.query('battery_power>1000')\n",
        "newdf"
      ],
      "metadata": {
        "id": "ls5UpMScE575"
      },
      "execution_count": null,
      "outputs": []
    },
    {
      "cell_type": "markdown",
      "source": [
        "Filtering one column and compare with another"
      ],
      "metadata": {
        "id": "tUdVYwpm156k"
      }
    },
    {
      "cell_type": "code",
      "source": [
        "newdf.loc[newdf[\"battery_power\"] >1500, \"clock_speed\"].value_counts()"
      ],
      "metadata": {
        "id": "tJGY14Bk06X7"
      },
      "execution_count": null,
      "outputs": []
    },
    {
      "cell_type": "markdown",
      "source": [
        "Complex filtering"
      ],
      "metadata": {
        "id": "WXa2HT0A5ssJ"
      }
    },
    {
      "cell_type": "code",
      "source": [
        "newdf[(newdf[\"clock_speed\"] < 1) & (newdf[\"dual_sim\"] ==1)].groupby(\\\n",
        "\n",
        "    [\"battery_power\", \"mobile_wt\",\"clock_speed\"])[\"int_memory\"].count()"
      ],
      "metadata": {
        "id": "AMKk9SDS4SaL"
      },
      "execution_count": null,
      "outputs": []
    },
    {
      "cell_type": "markdown",
      "source": [
        "*Calculus over filtered data*"
      ],
      "metadata": {
        "id": "ux1teImP68wE"
      }
    },
    {
      "cell_type": "code",
      "source": [
        "dataset.groupby('dual_sim').sum()"
      ],
      "metadata": {
        "id": "vPlFsYO6HLUa"
      },
      "execution_count": null,
      "outputs": []
    },
    {
      "cell_type": "code",
      "source": [
        "dataset.groupby('dual_sim').count()"
      ],
      "metadata": {
        "id": "KLqM_T3gJJOg"
      },
      "execution_count": null,
      "outputs": []
    },
    {
      "cell_type": "code",
      "source": [
        "dataset.groupby(\"dual_sim\", sort=False)[\"n_cores\"].sum()"
      ],
      "metadata": {
        "id": "WMMRM-4_JXzu"
      },
      "execution_count": null,
      "outputs": []
    },
    {
      "cell_type": "markdown",
      "source": [
        "## 3 - Final Pratice"
      ],
      "metadata": {
        "id": "PwlbP7IWDZqw"
      }
    },
    {
      "cell_type": "code",
      "source": [
        "#explore the dataframe\n",
        "data = {\n",
        "    'A': ['apple', 'banana', 'apple', 'orange', 'banana'],\n",
        "    'B': [10, 20, None, 40, 50],\n",
        "    'C': ['x', 'y', 'x', 'z', None]\n",
        "}\n",
        "df = pd.DataFrame(data)"
      ],
      "metadata": {
        "id": "rXWxIr8BDgOh"
      },
      "execution_count": null,
      "outputs": []
    },
    {
      "cell_type": "markdown",
      "source": [
        "## References"
      ],
      "metadata": {
        "id": "IE9klG4UxYAX"
      }
    },
    {
      "cell_type": "markdown",
      "source": [
        "\n",
        "*   Using pandas and Python to Explore Your Dataset\n",
        "https://realpython.com/pandas-python-explore-dataset/\n",
        "\n",
        "\n"
      ],
      "metadata": {
        "id": "BWyAtUzXxbhq"
      }
    },
    {
      "cell_type": "markdown",
      "source": [
        "End!"
      ],
      "metadata": {
        "id": "e0KXkMsh9i9r"
      }
    }
  ],
  "metadata": {
    "colab": {
      "provenance": [],
      "collapsed_sections": [
        "6tXQ8aNTtTSk",
        "PUud-RAmcLae",
        "nwyaSa1Rczfz"
      ],
      "include_colab_link": true
    },
    "kernelspec": {
      "display_name": "Python 3",
      "name": "python3"
    },
    "language_info": {
      "name": "python"
    }
  },
  "nbformat": 4,
  "nbformat_minor": 0
}
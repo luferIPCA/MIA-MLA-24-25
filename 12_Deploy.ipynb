{
  "nbformat": 4,
  "nbformat_minor": 0,
  "metadata": {
    "colab": {
      "provenance": [],
      "include_colab_link": true
    },
    "kernelspec": {
      "name": "python3",
      "display_name": "Python 3"
    },
    "language_info": {
      "name": "python"
    }
  },
  "cells": [
    {
      "cell_type": "markdown",
      "metadata": {
        "id": "view-in-github",
        "colab_type": "text"
      },
      "source": [
        "<a href=\"https://colab.research.google.com/github/luferIPCA/MIA-MLA-24-25/blob/main/12_Deploy.ipynb\" target=\"_parent\"><img src=\"https://colab.research.google.com/assets/colab-badge.svg\" alt=\"Open In Colab\"/></a>"
      ]
    },
    {
      "cell_type": "code",
      "execution_count": null,
      "metadata": {
        "id": "6sFdu_LGitF5"
      },
      "outputs": [],
      "source": [
        "#!Begin"
      ]
    },
    {
      "cell_type": "markdown",
      "metadata": {
        "id": "c1kf9qddTM4D"
      },
      "source": [
        "# Masters' in Applied Artificial Intelligence\n",
        "## Machine Learning Algorithms Course\n",
        "\n",
        "Notebooks for the MLA course\n",
        "\n",
        "by [*lufer*](mailto:lufer@ipca.pt)\n",
        "\n",
        "(ver 2.0)\n",
        "\n",
        "---\n",
        "\n"
      ]
    },
    {
      "cell_type": "markdown",
      "metadata": {
        "id": "3yc6mD0jVeWN"
      },
      "source": [
        "# ML Modelling - Part IV - Deploying Models\n",
        "\n",
        "**Contents**:\n",
        "\n",
        "1. **Deploying Models**\n",
        "2. **Prepare model to be deployed**\n",
        "\n",
        "\n"
      ]
    },
    {
      "cell_type": "markdown",
      "source": [
        "This notebook explainh how to deploy a Machine Learning model"
      ],
      "metadata": {
        "id": "iAEg0vfdoiFr"
      }
    },
    {
      "cell_type": "markdown",
      "source": [
        "# Deploying Models"
      ],
      "metadata": {
        "id": "v-jVJucMh5S_"
      }
    },
    {
      "cell_type": "markdown",
      "metadata": {
        "id": "GP-NymupVL02"
      },
      "source": [
        "# Environment preparation\n",
        "\n",
        "1. Model preparation\n",
        "2. Project Environment\n"
      ]
    },
    {
      "cell_type": "markdown",
      "source": [
        "## Build the machine learning model\n",
        "\n",
        "This is a very simple demonstrative model creation. This code loads the California housing dataset, selects three features (MedInc, AveRooms, AveOccup), trains a linear regression model, and saves it in the model/ folder of your local drive. The saved model has name *linearRegressionModel.pkl*"
      ],
      "metadata": {
        "id": "VKeC8Ts3jm6f"
      }
    },
    {
      "cell_type": "markdown",
      "metadata": {
        "id": "-3Rm857IVoPe"
      },
      "source": [
        "**Install necessary Libraries**"
      ]
    },
    {
      "cell_type": "code",
      "source": [
        "# model_training.py\n",
        "import pandas as pd\n",
        "from sklearn.datasets import fetch_california_housing\n",
        "from sklearn.model_selection import train_test_split\n",
        "from sklearn.linear_model import LinearRegression\n",
        "import pickle\n",
        "import os"
      ],
      "metadata": {
        "id": "gZ5wYzX3Hj3-"
      },
      "execution_count": null,
      "outputs": []
    },
    {
      "cell_type": "code",
      "source": [
        "import datetime\n",
        "print(f\"Last updated: {datetime.datetime.now()}\")"
      ],
      "metadata": {
        "id": "wuXym8xInfIu",
        "colab": {
          "base_uri": "https://localhost:8080/"
        },
        "outputId": "975ea08b-b011-4db8-9b57-0a07e89704fa"
      },
      "execution_count": null,
      "outputs": [
        {
          "output_type": "stream",
          "name": "stdout",
          "text": [
            "Last updated: 2025-02-16 13:34:06.982938\n"
          ]
        }
      ]
    },
    {
      "cell_type": "markdown",
      "metadata": {
        "id": "bDLxcgMwJEYA"
      },
      "source": [
        "**Mounting Drive**"
      ]
    },
    {
      "cell_type": "code",
      "execution_count": null,
      "metadata": {
        "id": "qxFY0ypTJJK9",
        "colab": {
          "base_uri": "https://localhost:8080/"
        },
        "outputId": "75a61586-1df8-41fd-ad53-04c91d954afa"
      },
      "outputs": [
        {
          "output_type": "stream",
          "name": "stdout",
          "text": [
            "Mounted at /content/gDrive/\n"
          ]
        }
      ],
      "source": [
        "\n",
        "from google.colab import drive\n",
        "\n",
        "# it will ask for your google drive credentiaals\n",
        "drive.mount('/content/gDrive/', force_remount=True)"
      ]
    },
    {
      "cell_type": "markdown",
      "source": [
        "### Getting data"
      ],
      "metadata": {
        "id": "LqOOL0uDgaqb"
      }
    },
    {
      "cell_type": "code",
      "source": [
        "# Load the dataset\n",
        "data = fetch_california_housing(as_frame=True)\n",
        "df = data['data']\n",
        "target = data['target']"
      ],
      "metadata": {
        "id": "Vi0dyX6wkM0f"
      },
      "execution_count": null,
      "outputs": []
    },
    {
      "cell_type": "code",
      "source": [
        "#check dataset size\n",
        "df.shape"
      ],
      "metadata": {
        "id": "vXNCk55Gk5Oy",
        "colab": {
          "base_uri": "https://localhost:8080/"
        },
        "outputId": "8da72e9f-d83c-4a00-8715-edb85bb0cbe0"
      },
      "execution_count": null,
      "outputs": [
        {
          "output_type": "execute_result",
          "data": {
            "text/plain": [
              "(20640, 8)"
            ]
          },
          "metadata": {},
          "execution_count": 3
        }
      ]
    },
    {
      "cell_type": "markdown",
      "source": [
        "### Get Features and Target"
      ],
      "metadata": {
        "id": "U5oj6G_zZ7MO"
      }
    },
    {
      "cell_type": "code",
      "source": [
        "# Select only some features of the entire dataset\n",
        "selected_features = ['MedInc', 'AveRooms', 'AveOccup']\n",
        "X = df[selected_features]\n",
        "y = target"
      ],
      "metadata": {
        "id": "ErpH69KsvZ4K"
      },
      "execution_count": null,
      "outputs": []
    },
    {
      "cell_type": "markdown",
      "source": [
        "### Train the model"
      ],
      "metadata": {
        "id": "qJcp_mXeieV_"
      }
    },
    {
      "cell_type": "code",
      "source": [
        "# Train-test split\n",
        "X_train, X_test, y_train, y_test = train_test_split(X, y, test_size=0.2, random_state=42)"
      ],
      "metadata": {
        "id": "qJHpxeT1wPjP"
      },
      "execution_count": null,
      "outputs": []
    },
    {
      "cell_type": "code",
      "source": [
        "# Train the Linear Regression model\n",
        "model = LinearRegression()\n",
        "model.fit(X_train, y_train)"
      ],
      "metadata": {
        "colab": {
          "base_uri": "https://localhost:8080/",
          "height": 80
        },
        "id": "kqISmE5Evk56",
        "outputId": "5b6a3c22-fa5e-418e-bb17-6e401b69c8a7"
      },
      "execution_count": null,
      "outputs": [
        {
          "output_type": "execute_result",
          "data": {
            "text/plain": [
              "LinearRegression()"
            ],
            "text/html": [
              "<style>#sk-container-id-1 {\n",
              "  /* Definition of color scheme common for light and dark mode */\n",
              "  --sklearn-color-text: #000;\n",
              "  --sklearn-color-text-muted: #666;\n",
              "  --sklearn-color-line: gray;\n",
              "  /* Definition of color scheme for unfitted estimators */\n",
              "  --sklearn-color-unfitted-level-0: #fff5e6;\n",
              "  --sklearn-color-unfitted-level-1: #f6e4d2;\n",
              "  --sklearn-color-unfitted-level-2: #ffe0b3;\n",
              "  --sklearn-color-unfitted-level-3: chocolate;\n",
              "  /* Definition of color scheme for fitted estimators */\n",
              "  --sklearn-color-fitted-level-0: #f0f8ff;\n",
              "  --sklearn-color-fitted-level-1: #d4ebff;\n",
              "  --sklearn-color-fitted-level-2: #b3dbfd;\n",
              "  --sklearn-color-fitted-level-3: cornflowerblue;\n",
              "\n",
              "  /* Specific color for light theme */\n",
              "  --sklearn-color-text-on-default-background: var(--sg-text-color, var(--theme-code-foreground, var(--jp-content-font-color1, black)));\n",
              "  --sklearn-color-background: var(--sg-background-color, var(--theme-background, var(--jp-layout-color0, white)));\n",
              "  --sklearn-color-border-box: var(--sg-text-color, var(--theme-code-foreground, var(--jp-content-font-color1, black)));\n",
              "  --sklearn-color-icon: #696969;\n",
              "\n",
              "  @media (prefers-color-scheme: dark) {\n",
              "    /* Redefinition of color scheme for dark theme */\n",
              "    --sklearn-color-text-on-default-background: var(--sg-text-color, var(--theme-code-foreground, var(--jp-content-font-color1, white)));\n",
              "    --sklearn-color-background: var(--sg-background-color, var(--theme-background, var(--jp-layout-color0, #111)));\n",
              "    --sklearn-color-border-box: var(--sg-text-color, var(--theme-code-foreground, var(--jp-content-font-color1, white)));\n",
              "    --sklearn-color-icon: #878787;\n",
              "  }\n",
              "}\n",
              "\n",
              "#sk-container-id-1 {\n",
              "  color: var(--sklearn-color-text);\n",
              "}\n",
              "\n",
              "#sk-container-id-1 pre {\n",
              "  padding: 0;\n",
              "}\n",
              "\n",
              "#sk-container-id-1 input.sk-hidden--visually {\n",
              "  border: 0;\n",
              "  clip: rect(1px 1px 1px 1px);\n",
              "  clip: rect(1px, 1px, 1px, 1px);\n",
              "  height: 1px;\n",
              "  margin: -1px;\n",
              "  overflow: hidden;\n",
              "  padding: 0;\n",
              "  position: absolute;\n",
              "  width: 1px;\n",
              "}\n",
              "\n",
              "#sk-container-id-1 div.sk-dashed-wrapped {\n",
              "  border: 1px dashed var(--sklearn-color-line);\n",
              "  margin: 0 0.4em 0.5em 0.4em;\n",
              "  box-sizing: border-box;\n",
              "  padding-bottom: 0.4em;\n",
              "  background-color: var(--sklearn-color-background);\n",
              "}\n",
              "\n",
              "#sk-container-id-1 div.sk-container {\n",
              "  /* jupyter's `normalize.less` sets `[hidden] { display: none; }`\n",
              "     but bootstrap.min.css set `[hidden] { display: none !important; }`\n",
              "     so we also need the `!important` here to be able to override the\n",
              "     default hidden behavior on the sphinx rendered scikit-learn.org.\n",
              "     See: https://github.com/scikit-learn/scikit-learn/issues/21755 */\n",
              "  display: inline-block !important;\n",
              "  position: relative;\n",
              "}\n",
              "\n",
              "#sk-container-id-1 div.sk-text-repr-fallback {\n",
              "  display: none;\n",
              "}\n",
              "\n",
              "div.sk-parallel-item,\n",
              "div.sk-serial,\n",
              "div.sk-item {\n",
              "  /* draw centered vertical line to link estimators */\n",
              "  background-image: linear-gradient(var(--sklearn-color-text-on-default-background), var(--sklearn-color-text-on-default-background));\n",
              "  background-size: 2px 100%;\n",
              "  background-repeat: no-repeat;\n",
              "  background-position: center center;\n",
              "}\n",
              "\n",
              "/* Parallel-specific style estimator block */\n",
              "\n",
              "#sk-container-id-1 div.sk-parallel-item::after {\n",
              "  content: \"\";\n",
              "  width: 100%;\n",
              "  border-bottom: 2px solid var(--sklearn-color-text-on-default-background);\n",
              "  flex-grow: 1;\n",
              "}\n",
              "\n",
              "#sk-container-id-1 div.sk-parallel {\n",
              "  display: flex;\n",
              "  align-items: stretch;\n",
              "  justify-content: center;\n",
              "  background-color: var(--sklearn-color-background);\n",
              "  position: relative;\n",
              "}\n",
              "\n",
              "#sk-container-id-1 div.sk-parallel-item {\n",
              "  display: flex;\n",
              "  flex-direction: column;\n",
              "}\n",
              "\n",
              "#sk-container-id-1 div.sk-parallel-item:first-child::after {\n",
              "  align-self: flex-end;\n",
              "  width: 50%;\n",
              "}\n",
              "\n",
              "#sk-container-id-1 div.sk-parallel-item:last-child::after {\n",
              "  align-self: flex-start;\n",
              "  width: 50%;\n",
              "}\n",
              "\n",
              "#sk-container-id-1 div.sk-parallel-item:only-child::after {\n",
              "  width: 0;\n",
              "}\n",
              "\n",
              "/* Serial-specific style estimator block */\n",
              "\n",
              "#sk-container-id-1 div.sk-serial {\n",
              "  display: flex;\n",
              "  flex-direction: column;\n",
              "  align-items: center;\n",
              "  background-color: var(--sklearn-color-background);\n",
              "  padding-right: 1em;\n",
              "  padding-left: 1em;\n",
              "}\n",
              "\n",
              "\n",
              "/* Toggleable style: style used for estimator/Pipeline/ColumnTransformer box that is\n",
              "clickable and can be expanded/collapsed.\n",
              "- Pipeline and ColumnTransformer use this feature and define the default style\n",
              "- Estimators will overwrite some part of the style using the `sk-estimator` class\n",
              "*/\n",
              "\n",
              "/* Pipeline and ColumnTransformer style (default) */\n",
              "\n",
              "#sk-container-id-1 div.sk-toggleable {\n",
              "  /* Default theme specific background. It is overwritten whether we have a\n",
              "  specific estimator or a Pipeline/ColumnTransformer */\n",
              "  background-color: var(--sklearn-color-background);\n",
              "}\n",
              "\n",
              "/* Toggleable label */\n",
              "#sk-container-id-1 label.sk-toggleable__label {\n",
              "  cursor: pointer;\n",
              "  display: flex;\n",
              "  width: 100%;\n",
              "  margin-bottom: 0;\n",
              "  padding: 0.5em;\n",
              "  box-sizing: border-box;\n",
              "  text-align: center;\n",
              "  align-items: start;\n",
              "  justify-content: space-between;\n",
              "  gap: 0.5em;\n",
              "}\n",
              "\n",
              "#sk-container-id-1 label.sk-toggleable__label .caption {\n",
              "  font-size: 0.6rem;\n",
              "  font-weight: lighter;\n",
              "  color: var(--sklearn-color-text-muted);\n",
              "}\n",
              "\n",
              "#sk-container-id-1 label.sk-toggleable__label-arrow:before {\n",
              "  /* Arrow on the left of the label */\n",
              "  content: \"▸\";\n",
              "  float: left;\n",
              "  margin-right: 0.25em;\n",
              "  color: var(--sklearn-color-icon);\n",
              "}\n",
              "\n",
              "#sk-container-id-1 label.sk-toggleable__label-arrow:hover:before {\n",
              "  color: var(--sklearn-color-text);\n",
              "}\n",
              "\n",
              "/* Toggleable content - dropdown */\n",
              "\n",
              "#sk-container-id-1 div.sk-toggleable__content {\n",
              "  max-height: 0;\n",
              "  max-width: 0;\n",
              "  overflow: hidden;\n",
              "  text-align: left;\n",
              "  /* unfitted */\n",
              "  background-color: var(--sklearn-color-unfitted-level-0);\n",
              "}\n",
              "\n",
              "#sk-container-id-1 div.sk-toggleable__content.fitted {\n",
              "  /* fitted */\n",
              "  background-color: var(--sklearn-color-fitted-level-0);\n",
              "}\n",
              "\n",
              "#sk-container-id-1 div.sk-toggleable__content pre {\n",
              "  margin: 0.2em;\n",
              "  border-radius: 0.25em;\n",
              "  color: var(--sklearn-color-text);\n",
              "  /* unfitted */\n",
              "  background-color: var(--sklearn-color-unfitted-level-0);\n",
              "}\n",
              "\n",
              "#sk-container-id-1 div.sk-toggleable__content.fitted pre {\n",
              "  /* unfitted */\n",
              "  background-color: var(--sklearn-color-fitted-level-0);\n",
              "}\n",
              "\n",
              "#sk-container-id-1 input.sk-toggleable__control:checked~div.sk-toggleable__content {\n",
              "  /* Expand drop-down */\n",
              "  max-height: 200px;\n",
              "  max-width: 100%;\n",
              "  overflow: auto;\n",
              "}\n",
              "\n",
              "#sk-container-id-1 input.sk-toggleable__control:checked~label.sk-toggleable__label-arrow:before {\n",
              "  content: \"▾\";\n",
              "}\n",
              "\n",
              "/* Pipeline/ColumnTransformer-specific style */\n",
              "\n",
              "#sk-container-id-1 div.sk-label input.sk-toggleable__control:checked~label.sk-toggleable__label {\n",
              "  color: var(--sklearn-color-text);\n",
              "  background-color: var(--sklearn-color-unfitted-level-2);\n",
              "}\n",
              "\n",
              "#sk-container-id-1 div.sk-label.fitted input.sk-toggleable__control:checked~label.sk-toggleable__label {\n",
              "  background-color: var(--sklearn-color-fitted-level-2);\n",
              "}\n",
              "\n",
              "/* Estimator-specific style */\n",
              "\n",
              "/* Colorize estimator box */\n",
              "#sk-container-id-1 div.sk-estimator input.sk-toggleable__control:checked~label.sk-toggleable__label {\n",
              "  /* unfitted */\n",
              "  background-color: var(--sklearn-color-unfitted-level-2);\n",
              "}\n",
              "\n",
              "#sk-container-id-1 div.sk-estimator.fitted input.sk-toggleable__control:checked~label.sk-toggleable__label {\n",
              "  /* fitted */\n",
              "  background-color: var(--sklearn-color-fitted-level-2);\n",
              "}\n",
              "\n",
              "#sk-container-id-1 div.sk-label label.sk-toggleable__label,\n",
              "#sk-container-id-1 div.sk-label label {\n",
              "  /* The background is the default theme color */\n",
              "  color: var(--sklearn-color-text-on-default-background);\n",
              "}\n",
              "\n",
              "/* On hover, darken the color of the background */\n",
              "#sk-container-id-1 div.sk-label:hover label.sk-toggleable__label {\n",
              "  color: var(--sklearn-color-text);\n",
              "  background-color: var(--sklearn-color-unfitted-level-2);\n",
              "}\n",
              "\n",
              "/* Label box, darken color on hover, fitted */\n",
              "#sk-container-id-1 div.sk-label.fitted:hover label.sk-toggleable__label.fitted {\n",
              "  color: var(--sklearn-color-text);\n",
              "  background-color: var(--sklearn-color-fitted-level-2);\n",
              "}\n",
              "\n",
              "/* Estimator label */\n",
              "\n",
              "#sk-container-id-1 div.sk-label label {\n",
              "  font-family: monospace;\n",
              "  font-weight: bold;\n",
              "  display: inline-block;\n",
              "  line-height: 1.2em;\n",
              "}\n",
              "\n",
              "#sk-container-id-1 div.sk-label-container {\n",
              "  text-align: center;\n",
              "}\n",
              "\n",
              "/* Estimator-specific */\n",
              "#sk-container-id-1 div.sk-estimator {\n",
              "  font-family: monospace;\n",
              "  border: 1px dotted var(--sklearn-color-border-box);\n",
              "  border-radius: 0.25em;\n",
              "  box-sizing: border-box;\n",
              "  margin-bottom: 0.5em;\n",
              "  /* unfitted */\n",
              "  background-color: var(--sklearn-color-unfitted-level-0);\n",
              "}\n",
              "\n",
              "#sk-container-id-1 div.sk-estimator.fitted {\n",
              "  /* fitted */\n",
              "  background-color: var(--sklearn-color-fitted-level-0);\n",
              "}\n",
              "\n",
              "/* on hover */\n",
              "#sk-container-id-1 div.sk-estimator:hover {\n",
              "  /* unfitted */\n",
              "  background-color: var(--sklearn-color-unfitted-level-2);\n",
              "}\n",
              "\n",
              "#sk-container-id-1 div.sk-estimator.fitted:hover {\n",
              "  /* fitted */\n",
              "  background-color: var(--sklearn-color-fitted-level-2);\n",
              "}\n",
              "\n",
              "/* Specification for estimator info (e.g. \"i\" and \"?\") */\n",
              "\n",
              "/* Common style for \"i\" and \"?\" */\n",
              "\n",
              ".sk-estimator-doc-link,\n",
              "a:link.sk-estimator-doc-link,\n",
              "a:visited.sk-estimator-doc-link {\n",
              "  float: right;\n",
              "  font-size: smaller;\n",
              "  line-height: 1em;\n",
              "  font-family: monospace;\n",
              "  background-color: var(--sklearn-color-background);\n",
              "  border-radius: 1em;\n",
              "  height: 1em;\n",
              "  width: 1em;\n",
              "  text-decoration: none !important;\n",
              "  margin-left: 0.5em;\n",
              "  text-align: center;\n",
              "  /* unfitted */\n",
              "  border: var(--sklearn-color-unfitted-level-1) 1pt solid;\n",
              "  color: var(--sklearn-color-unfitted-level-1);\n",
              "}\n",
              "\n",
              ".sk-estimator-doc-link.fitted,\n",
              "a:link.sk-estimator-doc-link.fitted,\n",
              "a:visited.sk-estimator-doc-link.fitted {\n",
              "  /* fitted */\n",
              "  border: var(--sklearn-color-fitted-level-1) 1pt solid;\n",
              "  color: var(--sklearn-color-fitted-level-1);\n",
              "}\n",
              "\n",
              "/* On hover */\n",
              "div.sk-estimator:hover .sk-estimator-doc-link:hover,\n",
              ".sk-estimator-doc-link:hover,\n",
              "div.sk-label-container:hover .sk-estimator-doc-link:hover,\n",
              ".sk-estimator-doc-link:hover {\n",
              "  /* unfitted */\n",
              "  background-color: var(--sklearn-color-unfitted-level-3);\n",
              "  color: var(--sklearn-color-background);\n",
              "  text-decoration: none;\n",
              "}\n",
              "\n",
              "div.sk-estimator.fitted:hover .sk-estimator-doc-link.fitted:hover,\n",
              ".sk-estimator-doc-link.fitted:hover,\n",
              "div.sk-label-container:hover .sk-estimator-doc-link.fitted:hover,\n",
              ".sk-estimator-doc-link.fitted:hover {\n",
              "  /* fitted */\n",
              "  background-color: var(--sklearn-color-fitted-level-3);\n",
              "  color: var(--sklearn-color-background);\n",
              "  text-decoration: none;\n",
              "}\n",
              "\n",
              "/* Span, style for the box shown on hovering the info icon */\n",
              ".sk-estimator-doc-link span {\n",
              "  display: none;\n",
              "  z-index: 9999;\n",
              "  position: relative;\n",
              "  font-weight: normal;\n",
              "  right: .2ex;\n",
              "  padding: .5ex;\n",
              "  margin: .5ex;\n",
              "  width: min-content;\n",
              "  min-width: 20ex;\n",
              "  max-width: 50ex;\n",
              "  color: var(--sklearn-color-text);\n",
              "  box-shadow: 2pt 2pt 4pt #999;\n",
              "  /* unfitted */\n",
              "  background: var(--sklearn-color-unfitted-level-0);\n",
              "  border: .5pt solid var(--sklearn-color-unfitted-level-3);\n",
              "}\n",
              "\n",
              ".sk-estimator-doc-link.fitted span {\n",
              "  /* fitted */\n",
              "  background: var(--sklearn-color-fitted-level-0);\n",
              "  border: var(--sklearn-color-fitted-level-3);\n",
              "}\n",
              "\n",
              ".sk-estimator-doc-link:hover span {\n",
              "  display: block;\n",
              "}\n",
              "\n",
              "/* \"?\"-specific style due to the `<a>` HTML tag */\n",
              "\n",
              "#sk-container-id-1 a.estimator_doc_link {\n",
              "  float: right;\n",
              "  font-size: 1rem;\n",
              "  line-height: 1em;\n",
              "  font-family: monospace;\n",
              "  background-color: var(--sklearn-color-background);\n",
              "  border-radius: 1rem;\n",
              "  height: 1rem;\n",
              "  width: 1rem;\n",
              "  text-decoration: none;\n",
              "  /* unfitted */\n",
              "  color: var(--sklearn-color-unfitted-level-1);\n",
              "  border: var(--sklearn-color-unfitted-level-1) 1pt solid;\n",
              "}\n",
              "\n",
              "#sk-container-id-1 a.estimator_doc_link.fitted {\n",
              "  /* fitted */\n",
              "  border: var(--sklearn-color-fitted-level-1) 1pt solid;\n",
              "  color: var(--sklearn-color-fitted-level-1);\n",
              "}\n",
              "\n",
              "/* On hover */\n",
              "#sk-container-id-1 a.estimator_doc_link:hover {\n",
              "  /* unfitted */\n",
              "  background-color: var(--sklearn-color-unfitted-level-3);\n",
              "  color: var(--sklearn-color-background);\n",
              "  text-decoration: none;\n",
              "}\n",
              "\n",
              "#sk-container-id-1 a.estimator_doc_link.fitted:hover {\n",
              "  /* fitted */\n",
              "  background-color: var(--sklearn-color-fitted-level-3);\n",
              "}\n",
              "</style><div id=\"sk-container-id-1\" class=\"sk-top-container\"><div class=\"sk-text-repr-fallback\"><pre>LinearRegression()</pre><b>In a Jupyter environment, please rerun this cell to show the HTML representation or trust the notebook. <br />On GitHub, the HTML representation is unable to render, please try loading this page with nbviewer.org.</b></div><div class=\"sk-container\" hidden><div class=\"sk-item\"><div class=\"sk-estimator fitted sk-toggleable\"><input class=\"sk-toggleable__control sk-hidden--visually\" id=\"sk-estimator-id-1\" type=\"checkbox\" checked><label for=\"sk-estimator-id-1\" class=\"sk-toggleable__label fitted sk-toggleable__label-arrow\"><div><div>LinearRegression</div></div><div><a class=\"sk-estimator-doc-link fitted\" rel=\"noreferrer\" target=\"_blank\" href=\"https://scikit-learn.org/1.6/modules/generated/sklearn.linear_model.LinearRegression.html\">?<span>Documentation for LinearRegression</span></a><span class=\"sk-estimator-doc-link fitted\">i<span>Fitted</span></span></div></label><div class=\"sk-toggleable__content fitted\"><pre>LinearRegression()</pre></div> </div></div></div></div>"
            ]
          },
          "metadata": {},
          "execution_count": 7
        }
      ]
    },
    {
      "cell_type": "markdown",
      "source": [
        "### Check Prediction accuracy"
      ],
      "metadata": {
        "id": "Xvdh6zGpppPI"
      }
    },
    {
      "cell_type": "code",
      "source": [
        "#check the model prediction\n",
        "#all X_test\n",
        "model.predict(X_test)"
      ],
      "metadata": {
        "colab": {
          "base_uri": "https://localhost:8080/"
        },
        "id": "1tVWUjSM-H8p",
        "outputId": "73d3d3a5-32c1-4607-bf53-484350e78069"
      },
      "execution_count": null,
      "outputs": [
        {
          "output_type": "execute_result",
          "data": {
            "text/plain": [
              "array([1.15826883, 1.4999938 , 1.96250199, ..., 4.33715353, 1.60108676,\n",
              "       1.9844191 ])"
            ]
          },
          "metadata": {},
          "execution_count": 10
        }
      ]
    },
    {
      "cell_type": "code",
      "source": [
        "#check only the first instance of X_test\n",
        "print(X_test.values[0])\n",
        "priceHouse = model.predict([X_test.values[0]])\n",
        "priceHouse"
      ],
      "metadata": {
        "colab": {
          "base_uri": "https://localhost:8080/"
        },
        "id": "VZj061EVAtaL",
        "outputId": "9012fd00-56cf-4d8a-a438-e1bfac7d756b"
      },
      "execution_count": null,
      "outputs": [
        {
          "output_type": "stream",
          "name": "stdout",
          "text": [
            "[1.6812     4.19220056 3.87743733]\n"
          ]
        },
        {
          "output_type": "stream",
          "name": "stderr",
          "text": [
            "/usr/local/lib/python3.11/dist-packages/sklearn/utils/validation.py:2739: UserWarning: X does not have valid feature names, but LinearRegression was fitted with feature names\n",
            "  warnings.warn(\n"
          ]
        },
        {
          "output_type": "execute_result",
          "data": {
            "text/plain": [
              "array([1.15826883])"
            ]
          },
          "metadata": {},
          "execution_count": 26
        }
      ]
    },
    {
      "cell_type": "code",
      "source": [
        "#check any other input values\n",
        "#create array of values\n",
        "inputs=[3.5,5.0,2.0]\n",
        "priceHouse = model.predict([inputs])\n",
        "print(inputs)\n",
        "priceHouse\n"
      ],
      "metadata": {
        "colab": {
          "base_uri": "https://localhost:8080/"
        },
        "id": "4IPznoba-jZ0",
        "outputId": "34131fa8-1aa2-41cd-e4ea-bdf525975f98"
      },
      "execution_count": null,
      "outputs": [
        {
          "output_type": "stream",
          "name": "stdout",
          "text": [
            "[3.5, 5.0, 2.0]\n"
          ]
        },
        {
          "output_type": "stream",
          "name": "stderr",
          "text": [
            "/usr/local/lib/python3.11/dist-packages/sklearn/utils/validation.py:2739: UserWarning: X does not have valid feature names, but LinearRegression was fitted with feature names\n",
            "  warnings.warn(\n"
          ]
        },
        {
          "output_type": "execute_result",
          "data": {
            "text/plain": [
              "array([1.92739533])"
            ]
          },
          "metadata": {},
          "execution_count": 38
        }
      ]
    },
    {
      "cell_type": "code",
      "source": [
        "#check manually created instance (with feature names)\n",
        "manual_instance = {\n",
        "    \"MedInc\": 5.3,\n",
        "    \"AveRooms\": 7.4,\n",
        "    \"AveOccup\": 1.6\n",
        "}\n",
        "\n",
        "# Convert it to a format that your model can accept (a list of lists)\n",
        "#inputs = [manual_instance[\"MedInc\"], manual_instance[\"AveRooms\"], manual_instance[\"AveOccup\"]]\n",
        "#priceHouse = model.predict(inputs)\n",
        "\n",
        "#or\n",
        "\n",
        "# Convert the instance to a pandas DataFrame with the correct feature names\n",
        "inputs_df = pd.DataFrame([manual_instance])\n",
        "priceHouse = model.predict(inputs_df)\n",
        "print(inputs)\n",
        "priceHouse"
      ],
      "metadata": {
        "colab": {
          "base_uri": "https://localhost:8080/"
        },
        "id": "Ck5XVZ_8-N8i",
        "outputId": "179b6abd-e3da-4994-d7c6-fab7f8ca89e1"
      },
      "execution_count": null,
      "outputs": [
        {
          "output_type": "stream",
          "name": "stdout",
          "text": [
            "[3.5, 5.0, 2.0]\n"
          ]
        },
        {
          "output_type": "execute_result",
          "data": {
            "text/plain": [
              "array([2.61828368])"
            ]
          },
          "metadata": {},
          "execution_count": 39
        }
      ]
    },
    {
      "cell_type": "markdown",
      "source": [
        "### Exporting the model"
      ],
      "metadata": {
        "id": "bHOBY-NGiZHf"
      }
    },
    {
      "cell_type": "code",
      "source": [
        "# Create a 'model' folder to save the trained model\n",
        "#os.makedirs('model', exist_ok=True)\n",
        "#or\n",
        "modelPath=\"/content/gDrive/MyDrive/Colab Notebooks/MIA - ML - 2024-2025/Model/\""
      ],
      "metadata": {
        "id": "w18h56rkvpOV"
      },
      "execution_count": null,
      "outputs": []
    },
    {
      "cell_type": "code",
      "source": [
        "# Save the trained model using pickle\n",
        "with open(modelPath+'linearRegressionModel.pkl', 'wb') as f:\n",
        "    pickle.dump(model, f)\n",
        "\n",
        "print(\"Model trained and saved successfully.\")"
      ],
      "metadata": {
        "colab": {
          "base_uri": "https://localhost:8080/"
        },
        "id": "qlHByEv2vwPz",
        "outputId": "13e35f59-ad73-4b29-debc-bc8030474c6b"
      },
      "execution_count": null,
      "outputs": [
        {
          "output_type": "stream",
          "name": "stdout",
          "text": [
            "Model trained and saved successfully.\n"
          ]
        }
      ]
    },
    {
      "cell_type": "code",
      "source": [
        "#Export the X_test dataset\n",
        "# Save X_test to a CSV file\n",
        "X_test.to_csv(modelPath+\"X_test.csv\", index=False)\n",
        "print(\"X_test saved successfully.\")"
      ],
      "metadata": {
        "colab": {
          "base_uri": "https://localhost:8080/"
        },
        "id": "vOyQJXcN9ZOa",
        "outputId": "eff1d602-c531-453a-dd20-6a5773a46147"
      },
      "execution_count": null,
      "outputs": [
        {
          "output_type": "stream",
          "name": "stdout",
          "text": [
            "X_test saved successfully.\n"
          ]
        }
      ]
    },
    {
      "cell_type": "markdown",
      "source": [
        "## Deploy and Use the ML model\n",
        "\n",
        "There are many different approaches to deploy and work with a machine learning model. In this approach, two things are required:\n",
        "\n",
        "1. Know how to work with docker containners\n",
        "2. Know how to work with Services API\n",
        "\n",
        "\n",
        "Considering Docker Containers:\n",
        "\n",
        "1. Have Python installed (>=3.11)\n",
        "2. Have Docker installed (for your OS)\n"
      ],
      "metadata": {
        "id": "6BaqkEWyj3Y5"
      }
    },
    {
      "cell_type": "markdown",
      "source": [
        "1 - Create a Python Virtual Environment"
      ],
      "metadata": {
        "id": "GdxZRtSqn4fB"
      }
    },
    {
      "cell_type": "code",
      "source": [
        "#create\n",
        "python -m venv v1\n",
        "#activate it\n",
        "v1\\Scripts\\activate\n",
        "#to return to the normal python (get out the venv)\n",
        "#deactivate\n",
        "\n",
        "#in linux\n",
        "#source v1/bin/activate"
      ],
      "metadata": {
        "id": "Lpsh7-kDn-Lu"
      },
      "execution_count": null,
      "outputs": []
    },
    {
      "cell_type": "markdown",
      "source": [
        "2-Install the required packages"
      ],
      "metadata": {
        "id": "jfZ0pB9xoP7z"
      }
    },
    {
      "cell_type": "markdown",
      "source": [
        "\n",
        "```\n",
        "pip3 install pandas scikit-learn fastapi uvicorn\n",
        "```"
      ],
      "metadata": {
        "id": "AO90k7OQo2xQ"
      }
    },
    {
      "cell_type": "markdown",
      "source": [
        "3-Train and Export the Model"
      ],
      "metadata": {
        "id": "98Z_4awMowkw"
      }
    },
    {
      "cell_type": "markdown",
      "source": [
        "\n",
        "```\n",
        "python3 model_training.py\n",
        "```\n"
      ],
      "metadata": {
        "id": "Cna9lrVuonO9"
      }
    },
    {
      "cell_type": "markdown",
      "source": [
        "4 - Creating the FastAPI App\n",
        "\n",
        "Inside the app/ folder, create two files: **__init__.py** (empty) and **server.py**.\n",
        "\n",
        "**server.py** should have:\n",
        "\n",
        "```\n",
        "# app/server.py\n",
        "from fastapi import FastAPI\n",
        "from pydantic import BaseModel\n",
        "import pickle\n",
        "import os\n",
        "\n",
        "# Define the input data schema using Pydantic\n",
        "class InputData(BaseModel):\n",
        "    MedInc: float\n",
        "    AveRooms: float\n",
        "    AveOccup: float\n",
        "\n",
        "# Initialize FastAPI app\n",
        "app = FastAPI(title=\"House Price Prediction API\")\n",
        "\n",
        "# Load the model during startup\n",
        "model_path = os.path.join(\"model\", \"linearRegressionModel.pkl\")\n",
        "with open(model_path, 'rb') as f:\n",
        "    model = pickle.load(f)\n",
        "\n",
        "@app.post(\"/predict\")\n",
        "def predict(data: InputData):\n",
        "    # Prepare the data for prediction\n",
        "    input_features = [[data.MedInc, data.AveRooms, data.AveOccup]]\n",
        "    \n",
        "    # Make prediction using the loaded model\n",
        "    prediction = model.predict(input_features)\n",
        "    \n",
        "    # Return the prediction result\n",
        "    return {\"predicted_house_price\": prediction[0]}\n",
        "```\n",
        "\n"
      ],
      "metadata": {
        "id": "k721iNAupfaO"
      }
    },
    {
      "cell_type": "markdown",
      "source": [
        "5 - Containerizing the App with Docker\n",
        "\n",
        "1. Create the \"Dockerfile\" - all containerization steps\n",
        "2. CReate the \"requirements\" file - all required packages to include in the docker"
      ],
      "metadata": {
        "id": "psSyBQxSqWxR"
      }
    },
    {
      "cell_type": "markdown",
      "source": [
        "*Dockerfile*\n",
        "\n",
        "```\n",
        "FROM python:3.11-slim\n",
        "\n",
        "# Set the working directory inside the container\n",
        "WORKDIR /code\n",
        "\n",
        "# Copy the requirements file\n",
        "COPY ./requirements.txt /code/requirements.txt\n",
        "\n",
        "# Install the Python dependencies\n",
        "RUN pip install --no-cache-dir --upgrade -r /code/requirements.txt\n",
        "\n",
        "# Copy the app folder into the container\n",
        "COPY ./app /code/app\n",
        "\n",
        "# Copy the model directory (with the saved model file) into the container\n",
        "COPY ./model /code/model\n",
        "\n",
        "# Expose port 8000 for FastAPI\n",
        "EXPOSE 8000\n",
        "\n",
        "# Command to run the FastAPI app with Uvicorn\n",
        "CMD [\"uvicorn\", \"app.server:app\", \"--host\", \"0.0.0.0\", \"--port\", \"8000\"]\n",
        "```"
      ],
      "metadata": {
        "id": "tJVxTCGiqlF4"
      }
    },
    {
      "cell_type": "markdown",
      "source": [
        "*requirementx.txt*\n",
        "\n",
        "```\n",
        "fastapi\n",
        "uvicorn\n",
        "scikit-learn\n",
        "pandas\n",
        "```"
      ],
      "metadata": {
        "id": "g6tFxw8Xq1UM"
      }
    },
    {
      "cell_type": "markdown",
      "source": [
        "6 - Building the Docker Image\n",
        "\n",
        "you must have docker manager running...\n",
        "\n",
        "```\n",
        "docker build -t prediction-api .\n",
        "```"
      ],
      "metadata": {
        "id": "-nC6mtrerJMy"
      }
    },
    {
      "cell_type": "markdown",
      "source": [
        "7 - Run the docker container\n",
        "\n",
        "```\n",
        "docker run -d --name miaa-test -p 8000:8000 prediction-api\n",
        "```"
      ],
      "metadata": {
        "id": "AyN49kJQtvUg"
      }
    },
    {
      "cell_type": "markdown",
      "source": [
        "8 - When changing FastAPI\n",
        "\n",
        "If FastAPI is changed, the docker must be rebuild\n",
        "\n",
        "1. Remover the current docker\n",
        "\n",
        "```\n",
        "docker ps  # Check running containers\n",
        "docker stop <container_id>  # Stop the running container\n",
        "docker rm <container_id>  # Remove the stopped container\n",
        "```\n",
        "in our case the *container-id=\"miaa-test\"*\n",
        "\n",
        "2. Rebuild the Docker Image\n",
        "  * *docker build -t prediction-api .*\n",
        "\n",
        "3. Run the docker\n",
        "  * *docker run -d --name miaa-test1 -p 5000:8000 prediction-api*\n"
      ],
      "metadata": {
        "id": "6FqFSeCMtozB"
      }
    },
    {
      "cell_type": "markdown",
      "source": [
        "9 - Ckeck the FastAPI\n",
        "\n",
        "1. With Postman\n",
        "\n",
        "* POST; http://127.0.0.1:8000/predict; define Body Raw input data\n",
        "\n",
        "```\n",
        "{\n",
        "    \"MedInc\": \"3.5\",\n",
        "  \"AveRooms\": \"5.0\",\n",
        "  \"AveOccup\": \"2.0\"\n",
        "}\n",
        "```\n",
        "\n",
        "* POST; http://127.0.0.1:8000/predictMany; define Body Raw input data\n",
        "\n",
        "```\n",
        "{\n",
        "  \"instances\": [\n",
        "    { \"MedInc\": 8.3252, \"AveRooms\": 6.984127, \"AveOccup\": 2.555556 },\n",
        "    { \"MedInc\": 7.2574, \"AveRooms\": 8.288136, \"AveOccup\": 2.802260 }\n",
        "  ]\n",
        "}\n",
        "```\n",
        "\n",
        "2. By a *curl* command\n",
        "\n",
        "* define json data into a *input.json* file\n",
        "```\n",
        "{\n",
        "  \"MedInc\": 3.5,\n",
        "  \"AveRooms\": 5.0,\n",
        "  \"AveOccup\": 2.0\n",
        "}\n",
        "```\n",
        "* set curl command\n",
        "```\n",
        "curl -X POST -H \"Content-Type: application/json\" -d @input.json http://localhost:8000/predict\n",
        "```\n",
        "\n",
        "* define json data into a *inputMany.json* file\n",
        "```\n",
        "{\n",
        "  \"instances\": [\n",
        "    { \"MedInc\": 8.3252, \"AveRooms\": 6.984127, \"AveOccup\": 2.555556 },\n",
        "    { \"MedInc\": 7.2574, \"AveRooms\": 8.288136, \"AveOccup\": 2.802260 }\n",
        "  ]\n",
        "}\n",
        "```\n",
        "* set curl command\n",
        "```\n",
        "curl -X POST -H \"Content-Type: application/json\" -d @inputMany.json http://localhost:8000/predictMany\n",
        "```\n"
      ],
      "metadata": {
        "id": "g0zoy13w47Ul"
      }
    },
    {
      "cell_type": "markdown",
      "source": [
        "3. By Flask+HTML\n",
        "\n",
        "* install flask\n",
        "\n",
        "```\n",
        "pit install flask\n",
        "```\n",
        "* create flask python file *test.py* and *templates/index.html*\n",
        "\n",
        "* run flask files: *python test.py*\n",
        "\n",
        "* check http://127.0.0.1:5001\n",
        "\n",
        "\n"
      ],
      "metadata": {
        "id": "OOxYL1Kg-Zs2"
      }
    },
    {
      "cell_type": "markdown",
      "source": [
        "10 - Debug the FastAPI\n",
        "\n",
        "```\n",
        "uvicorn app.server:app --host 0.0.0.0 --port 8000 --reload\n",
        "```"
      ],
      "metadata": {
        "id": "ddDCzZLYEZ1E"
      }
    },
    {
      "cell_type": "markdown",
      "source": [
        "Summary\n",
        "\n",
        "\n",
        "```\n",
        ".\n",
        "├── Dockerfile\n",
        "├── requirements.txt\n",
        "├── app/\n",
        "│   └── server.py  # the FastAPI code\n",
        "├── model/\n",
        "│   └── linearRegressionModel.pkl  # the pickle model\n",
        "\n",
        "```\n",
        "\n"
      ],
      "metadata": {
        "id": "PN8DAuMt5g87"
      }
    },
    {
      "cell_type": "markdown",
      "source": [
        "# References"
      ],
      "metadata": {
        "id": "kK3-qlb-E3ub"
      }
    },
    {
      "cell_type": "markdown",
      "source": [
        "*  [Explainable AI - Understanding and Trusting Machine Learning Models](https://www.datacamp.com/tutorial/explainable-ai-understanding-and-trusting-machine-learning-models)  \n",
        "*  [Why is explainability important?](https://xai-tutorials.readthedocs.io/en/latest/_xai/importance.html)\n",
        "*  [SHapley Additive exPlanations (SHAP)](https://xai-tutorials.readthedocs.io/en/latest/_model_agnostic_xai/shap.html)\n",
        "*  [Local Interpretable Model-Agnostic Explanations (LIME)](https://xai-tutorials.readthedocs.io/en/latest/_model_agnostic_xai/lime.html)\n",
        "*  [Eli5 (Explain it like I am 5) Model Explainability in Python](https://medium.com/chat-gpt-now-writes-all-my-articles/eli5-explain-it-like-i-am-5-model-explainability-in-python-d4922f021037)\n",
        "*  [ELI5’s documentation!](https://eli5.readthedocs.io/en/latest/overview.html)\n",
        "*  [Techniques for Interpreting and Explaining ML Models](https://www.markovml.com/blog/model-interpreting)\n",
        "\n",
        "Applied\n",
        "\n",
        "*  [Explanatory Model Analysis (Section 3.2.2)](https://ema.drwhy.ai/)"
      ],
      "metadata": {
        "id": "VC5zdp4pFG_i"
      }
    },
    {
      "cell_type": "code",
      "source": [],
      "metadata": {
        "id": "i6nDKkItGJ2m"
      },
      "execution_count": null,
      "outputs": []
    }
  ]
}